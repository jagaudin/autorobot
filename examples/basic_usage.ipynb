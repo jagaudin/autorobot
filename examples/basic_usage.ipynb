{
 "cells": [
  {
   "cell_type": "code",
   "execution_count": 1,
   "metadata": {},
   "outputs": [],
   "source": [
    "%load_ext autoreload"
   ]
  },
  {
   "cell_type": "code",
   "execution_count": 2,
   "metadata": {},
   "outputs": [],
   "source": [
    "%autoreload 2"
   ]
  },
  {
   "cell_type": "code",
   "execution_count": 3,
   "metadata": {},
   "outputs": [],
   "source": [
    "import sys\n",
    "sys.path.append('..')\n",
    "\n",
    "import autorobot as ar\n",
    "from autorobot.constants import (\n",
    "    RProjType,\n",
    ")"
   ]
  },
  {
   "cell_type": "code",
   "execution_count": 4,
   "metadata": {},
   "outputs": [],
   "source": [
    "rb = ar.initialize()"
   ]
  },
  {
   "cell_type": "code",
   "execution_count": 5,
   "metadata": {},
   "outputs": [
    {
     "name": "stdout",
     "output_type": "stream",
     "text": [
      "{'BUILDING': <RProjType.BUILDING: 19>, 'FRAME_2D': <RProjType.FRAME_2D: 1>, 'FRAME_3D': <RProjType.FRAME_3D: 4>, 'SHELL': <RProjType.SHELL: 7>, 'TRUSS_2D': <RProjType.TRUSS_2D: 2>, 'TRUSS_3D': <RProjType.TRUSS_3D: 5>, 'PERM': <RCaseNature.PERM: 0>, 'IMPOSED': <RCaseNature.IMPOSED: 1>, 'WIND': <RCaseNature.WIND: 2>, 'SNOW': <RCaseNature.SNOW: 3>, 'ACC': <RCaseNature.ACC: 5>, 'SLS': <RCombType.SLS: 1>, 'ULS': <RCombType.ULS: 0>, 'LINEAR': <RAnalysisType.LINEAR: 1>, 'NON_LIN': <RAnalysisType.NON_LIN: 2>, 'COMB_LINEAR': <RAnalysisType.COMB_LINEAR: 0>, 'COMB_NON_LIN': <RAnalysisType.COMB_NON_LIN: -1>, <RCaseNature.PERM: 0>: 0, <RCaseNature.IMPOSED: 1>: 1, <RCaseNature.WIND: 2>: 2, <RCaseNature.SNOW: 3>: 3, <RCaseNature.ACC: 5>: 5, <RProjType.BUILDING: 19>: 19, <RProjType.FRAME_3D: 4>: 4, <RProjType.SHELL: 7>: 7, <RAnalysisType.COMB_NON_LIN: -1>: -1}\n"
     ]
    }
   ],
   "source": [
    "from autorobot.synonyms import synonyms\n",
    "\n",
    "print(ar.app.synonyms)"
   ]
  },
  {
   "cell_type": "code",
   "execution_count": 6,
   "metadata": {},
   "outputs": [],
   "source": [
    "rb.new('SHELL')"
   ]
  },
  {
   "cell_type": "code",
   "execution_count": 7,
   "metadata": {},
   "outputs": [],
   "source": [
    "n1 = rb.nodes.create(0,0,0)\n",
    "n2 = rb.nodes.create(10,0,0)"
   ]
  },
  {
   "cell_type": "code",
   "execution_count": 8,
   "metadata": {},
   "outputs": [],
   "source": [
    "bar = rb.bars.create(1, 2)"
   ]
  },
  {
   "cell_type": "code",
   "execution_count": 9,
   "metadata": {},
   "outputs": [
    {
     "name": "stdout",
     "output_type": "stream",
     "text": [
      "System.__ComObject\n"
     ]
    }
   ],
   "source": [
    "label = ar.RobotOM.IRobotLabel(bar.GetLabel(ar.constants.RLabelType.MAT))\n",
    "print(label)"
   ]
  },
  {
   "cell_type": "code",
   "execution_count": 10,
   "metadata": {},
   "outputs": [],
   "source": [
    "case_1 = rb.cases.create_case(1, 'case 1', 'PERM', 'LINEAR', overwrite=True)"
   ]
  },
  {
   "cell_type": "code",
   "execution_count": 11,
   "metadata": {},
   "outputs": [
    {
     "ename": "AttributeError",
     "evalue": "ExtendedSimpleCase has not attribute 'add_mass_accel'.",
     "output_type": "error",
     "traceback": [
      "\u001b[1;31m---------------------------------------------------------------------------\u001b[0m",
      "\u001b[1;31mAttributeError\u001b[0m                            Traceback (most recent call last)",
      "\u001b[1;32m<ipython-input-11-bfdc2bc3d135>\u001b[0m in \u001b[0;36m<module>\u001b[1;34m\u001b[0m\n\u001b[0;32m      1\u001b[0m \u001b[0mcase_1\u001b[0m\u001b[1;33m.\u001b[0m\u001b[0madd_bar_udl\u001b[0m\u001b[1;33m(\u001b[0m\u001b[1;34m'1'\u001b[0m\u001b[1;33m,\u001b[0m \u001b[0mfz\u001b[0m\u001b[1;33m=\u001b[0m\u001b[1;33m-\u001b[0m\u001b[1;36m2.\u001b[0m\u001b[1;33m,\u001b[0m \u001b[0mdesc\u001b[0m\u001b[1;33m=\u001b[0m\u001b[1;34m'udl on bar 1'\u001b[0m\u001b[1;33m)\u001b[0m\u001b[1;33m\u001b[0m\u001b[1;33m\u001b[0m\u001b[0m\n\u001b[1;32m----> 2\u001b[1;33m \u001b[0mcase_1\u001b[0m\u001b[1;33m.\u001b[0m\u001b[0madd_mass_accel\u001b[0m\u001b[1;33m(\u001b[0m\u001b[0max\u001b[0m\u001b[1;33m=\u001b[0m\u001b[1;36m3.\u001b[0m\u001b[1;33m,\u001b[0m \u001b[0mdesc\u001b[0m\u001b[1;33m=\u001b[0m\u001b[1;34m'mass acceleration'\u001b[0m\u001b[1;33m)\u001b[0m\u001b[1;33m\u001b[0m\u001b[1;33m\u001b[0m\u001b[0m\n\u001b[0m\u001b[0;32m      3\u001b[0m \u001b[0mcase_1\u001b[0m\u001b[1;33m.\u001b[0m\u001b[0madd_self_weight\u001b[0m\u001b[1;33m(\u001b[0m\u001b[0mfactor\u001b[0m\u001b[1;33m=\u001b[0m\u001b[1;36m2.\u001b[0m\u001b[1;33m,\u001b[0m \u001b[0mdesc\u001b[0m\u001b[1;33m=\u001b[0m\u001b[1;34m'self weight'\u001b[0m\u001b[1;33m)\u001b[0m\u001b[1;33m\u001b[0m\u001b[1;33m\u001b[0m\u001b[0m\n",
      "\u001b[1;32m~\\source\\repos\\autorobot\\autorobot\\extensions.py\u001b[0m in \u001b[0;36m__getattr__\u001b[1;34m(self, name)\u001b[0m\n\u001b[0;32m     24\u001b[0m             \u001b[1;32mreturn\u001b[0m \u001b[0mgetattr\u001b[0m\u001b[1;33m(\u001b[0m\u001b[0mself\u001b[0m\u001b[1;33m.\u001b[0m\u001b[0m_inst\u001b[0m\u001b[1;33m,\u001b[0m \u001b[0mname\u001b[0m\u001b[1;33m)\u001b[0m\u001b[1;33m\u001b[0m\u001b[1;33m\u001b[0m\u001b[0m\n\u001b[0;32m     25\u001b[0m         raise AttributeError(\n\u001b[1;32m---> 26\u001b[1;33m             f\"{self.__class__.__name__} has not attribute '{name}'.\")\n\u001b[0m\u001b[0;32m     27\u001b[0m \u001b[1;33m\u001b[0m\u001b[0m\n\u001b[0;32m     28\u001b[0m \u001b[1;33m\u001b[0m\u001b[0m\n",
      "\u001b[1;31mAttributeError\u001b[0m: ExtendedSimpleCase has not attribute 'add_mass_accel'."
     ]
    }
   ],
   "source": [
    "case_1.add_bar_udl('1', fz=-2., desc='udl on bar 1')\n",
    "case_1.add_mass_accel(ax=3., desc='mass acceleration')\n",
    "case_1.add_self_weight(factor=2., desc='self weight')"
   ]
  },
  {
   "cell_type": "code",
   "execution_count": null,
   "metadata": {},
   "outputs": [],
   "source": [
    "rec = ar.RobotOM.IRobotLoadRecord(case_1.Records.Create[int](89))\n",
    "print(dir(rec))"
   ]
  },
  {
   "cell_type": "code",
   "execution_count": null,
   "metadata": {},
   "outputs": [],
   "source": [
    "print(dir(case_1))\n",
    "case_1.loads\n",
    "\n",
    "case = rb.cases.get(1)\n",
    "print(case.loads)"
   ]
  },
  {
   "cell_type": "code",
   "execution_count": null,
   "metadata": {},
   "outputs": [],
   "source": [
    "print(dir(ar.RobotOM.IRobotLoadRecordType))\n",
    "print(ar.RobotOM.IRobotLoadRecordType.I_LRT_DEAD)\n",
    "print(ar.RobotOM.IRobotLoadRecordType.I_LRT_BAR_DEAD)\n",
    "\n",
    "for name in dir(ar.RobotOM.IRobotLoadRecordType):\n",
    "    if name.startswith('I_LRT'):\n",
    "        print(name, ': ' ,getattr(ar.RobotOM.IRobotLoadRecordType, name))"
   ]
  },
  {
   "cell_type": "code",
   "execution_count": null,
   "metadata": {},
   "outputs": [],
   "source": [
    "print(dir(ar.RobotOM.IRobotLoadRecordType))\n",
    "\n",
    "type(ar.RobotOM.IRobotLoadRecordType)"
   ]
  },
  {
   "cell_type": "code",
   "execution_count": null,
   "metadata": {},
   "outputs": [],
   "source": [
    "ar.RobotOM.IRobotLoadRecordType.I_LRT_BODY_FORCE = 89\n",
    "\n",
    "print(type(ar.RobotOM.IRobotLoadRecordType.I_LRT_DEAD))\n",
    "print(type(ar.RobotOM.IRobotLoadRecordType.I_LRT_BODY_FORCE))"
   ]
  },
  {
   "cell_type": "code",
   "execution_count": null,
   "metadata": {},
   "outputs": [],
   "source": [
    "import clr\n",
    "from pathlib import Path\n",
    "\n",
    "# Searching for ``interop.RobotOM.dll``\n",
    "p = Path(r'C:\\Program Files\\Autodesk')\n",
    "\n",
    "suffix = r'System\\EXE\\interop.RobotOM.dll'\n",
    "_robot_dll_path = (\n",
    "    str(p) if str(p).endswith(suffix)\n",
    "    else str(next(p.rglob(suffix), ''))\n",
    ")\n",
    "\n",
    "\n",
    "clr.AddReference(_robot_dll_path)\n",
    "\n",
    "clr.setPreload(True)\n",
    "import RobotOM  # NOQA F401 F402\n",
    "\n",
    "from RobotOM import IRobotLoadRecordType\n",
    "\n",
    "IRobotLoadRecordType.I_LRT_BODY_FORCE = 89\n",
    "\n",
    "print(IRobotLoadRecordType.I_LRT_BODY_FORCE)\n",
    "rec = ar.RobotOM.IRobotLoadRecord(case_1.Records.Create(ar.RobotOM.IRobotLoadRecordType.I_LRT_DEAD))\n",
    "rec = ar.RobotOM.IRobotLoadRecord(case_1.Records.Create(IRobotLoadRecordType.I_LRT_BODY_FORCE))\n",
    "print(dir(rec))"
   ]
  },
  {
   "cell_type": "code",
   "execution_count": 12,
   "metadata": {},
   "outputs": [
    {
     "data": {
      "text/plain": [
       "['__call__',\n",
       " '__class__',\n",
       " '__delattr__',\n",
       " '__delete__',\n",
       " '__dir__',\n",
       " '__doc__',\n",
       " '__eq__',\n",
       " '__format__',\n",
       " '__ge__',\n",
       " '__getattribute__',\n",
       " '__getitem__',\n",
       " '__gt__',\n",
       " '__hash__',\n",
       " '__init__',\n",
       " '__init_subclass__',\n",
       " '__le__',\n",
       " '__lt__',\n",
       " '__module__',\n",
       " '__ne__',\n",
       " '__new__',\n",
       " '__reduce__',\n",
       " '__reduce_ex__',\n",
       " '__repr__',\n",
       " '__set__',\n",
       " '__setattr__',\n",
       " '__sizeof__',\n",
       " '__str__',\n",
       " '__subclasshook__']"
      ]
     },
     "execution_count": 12,
     "metadata": {},
     "output_type": "execute_result"
    }
   ],
   "source": [
    "dir(case_1.Records.Create)"
   ]
  },
  {
   "cell_type": "code",
   "execution_count": 43,
   "metadata": {},
   "outputs": [
    {
     "name": "stdout",
     "output_type": "stream",
     "text": [
      "System.String[] ListAssemblies(Boolean)\n",
      "['mscorlib', 'clrmodule', 'Python.Runtime', 'System.Core', 'System.Configuration', 'System.Xml', 'System', '__CodeGenerator_Assembly', 'e__NativeCall_Assembly', 'Interop.RobotOM']\n"
     ]
    },
    {
     "data": {
      "text/plain": [
       "['AddReference',\n",
       " 'FindAssembly',\n",
       " 'GetClrType',\n",
       " 'ListAssemblies',\n",
       " 'Microsoft',\n",
       " 'Python',\n",
       " 'RobotOM',\n",
       " 'System',\n",
       " '_AtExit',\n",
       " '__class__',\n",
       " '__doc__',\n",
       " '__file__',\n",
       " '__loader__',\n",
       " '__name__',\n",
       " '__package__',\n",
       " '__spec__',\n",
       " '__version__',\n",
       " '_extras',\n",
       " 'clrModule',\n",
       " 'clrmethod',\n",
       " 'clrproperty',\n",
       " 'e__NativeCall',\n",
       " 'getPreload',\n",
       " 'setPreload']"
      ]
     },
     "execution_count": 43,
     "metadata": {},
     "output_type": "execute_result"
    }
   ],
   "source": [
    "import clr\n",
    "print(clr.ListAssemblies.__doc__)\n",
    "l = clr.ListAssemblies(False)\n",
    "print(list(l))\n",
    "dir(clr)"
   ]
  },
  {
   "cell_type": "code",
   "execution_count": null,
   "metadata": {},
   "outputs": [],
   "source": [
    "print(dir(rb.CmpntFactory))\n",
    "rec = ar.RobotOM.IRobotLoadRecordType.IsDefined()"
   ]
  },
  {
   "cell_type": "code",
   "execution_count": null,
   "metadata": {},
   "outputs": [],
   "source": [
    "print([n for n in dir(ar.RobotOM) if \"Record\" in n])"
   ]
  }
 ],
 "metadata": {
  "kernelspec": {
   "display_name": "Python 3",
   "language": "python",
   "name": "python3"
  },
  "language_info": {
   "codemirror_mode": {
    "name": "ipython",
    "version": 3
   },
   "file_extension": ".py",
   "mimetype": "text/x-python",
   "name": "python",
   "nbconvert_exporter": "python",
   "pygments_lexer": "ipython3",
   "version": "3.7.7"
  }
 },
 "nbformat": 4,
 "nbformat_minor": 4
}
