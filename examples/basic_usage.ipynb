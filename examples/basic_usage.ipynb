{
 "cells": [
  {
   "cell_type": "code",
   "execution_count": 1,
   "metadata": {},
   "outputs": [],
   "source": [
    "%load_ext autoreload"
   ]
  },
  {
   "cell_type": "code",
   "execution_count": 2,
   "metadata": {},
   "outputs": [],
   "source": [
    "%autoreload 2"
   ]
  },
  {
   "cell_type": "code",
   "execution_count": 3,
   "metadata": {},
   "outputs": [],
   "source": [
    "import sys\n",
    "sys.path.append('..')\n",
    "\n",
    "import autorobot as ar\n",
    "from autorobot.constants import (\n",
    "    RProjType,\n",
    ")"
   ]
  },
  {
   "cell_type": "code",
   "execution_count": 4,
   "metadata": {},
   "outputs": [],
   "source": [
    "rb = ar.initialize()"
   ]
  },
  {
   "cell_type": "code",
   "execution_count": 5,
   "metadata": {},
   "outputs": [
    {
     "name": "stdout",
     "output_type": "stream",
     "text": [
      "{'BUILDING': <RProjType.BUILDING: 19>, 'FRAME_2D': <RProjType.FRAME_2D: 1>, 'FRAME_3D': <RProjType.FRAME_3D: 4>, 'SHELL': <RProjType.SHELL: 7>, 'TRUSS_2D': <RProjType.TRUSS_2D: 2>, 'TRUSS_3D': <RProjType.TRUSS_3D: 5>, 'PERM': <RCaseNature.PERM: 0>, 'IMPOSED': <RCaseNature.IMPOSED: 1>, 'WIND': <RCaseNature.WIND: 2>, 'SNOW': <RCaseNature.SNOW: 3>, 'ACC': <RCaseNature.ACC: 5>, 'SLS': <RCombType.SLS: 1>, 'ULS': <RCombType.ULS: 0>, 'LINEAR': <RAnalysisType.LINEAR: 1>, 'NON_LIN': <RAnalysisType.NON_LIN: 2>, 'COMB_LINEAR': <RAnalysisType.COMB_LINEAR: 0>, 'COMB_NON_LIN': <RAnalysisType.COMB_NON_LIN: -1>, <RCaseNature.PERM: 0>: 0, <RCaseNature.IMPOSED: 1>: 1, <RCaseNature.WIND: 2>: 2, <RCaseNature.SNOW: 3>: 3, <RCaseNature.ACC: 5>: 5, <RProjType.BUILDING: 19>: 19, <RProjType.FRAME_3D: 4>: 4, <RProjType.SHELL: 7>: 7, <RAnalysisType.COMB_NON_LIN: -1>: -1, 'seashell': <RProjType.SHELL: 7>}\n"
     ]
    }
   ],
   "source": [
    "from autorobot.synonyms import synonyms\n",
    "synonyms.update({'seashell': ar.RProjType.SHELL})\n",
    "\n",
    "print(ar.app.synonyms)"
   ]
  },
  {
   "cell_type": "code",
   "execution_count": 6,
   "metadata": {},
   "outputs": [],
   "source": [
    "rb.new('seashell')"
   ]
  },
  {
   "cell_type": "code",
   "execution_count": 7,
   "metadata": {},
   "outputs": [
    {
     "name": "stdout",
     "output_type": "stream",
     "text": [
      "['_IRConcrSlabRequiredReinfEngineEvents_ProgressNotifyEventHandler']\n"
     ]
    }
   ],
   "source": [
    "print(list(n for n in dir(ar.RobotOM) if len(n) == max(len(s) for s in dir(ar.RobotOM))))"
   ]
  },
  {
   "cell_type": "code",
   "execution_count": 8,
   "metadata": {},
   "outputs": [],
   "source": [
    "rb.sections.create('CHS100x5', 100., t=5., shape='round', is_solid=False)"
   ]
  },
  {
   "cell_type": "code",
   "execution_count": 9,
   "metadata": {},
   "outputs": [],
   "source": [
    "sec = ar.RobotOM.IRobotLabel(rb.structure.Labels.Get(ar.RobotOM.IRobotLabelType.I_LT_BAR_SECTION, 'CHS100x5'))\n",
    "data = ar.RobotOM.IRobotBarSectionData(sec.Data)"
   ]
  },
  {
   "cell_type": "code",
   "execution_count": 22,
   "metadata": {},
   "outputs": [
    {
     "name": "stdout",
     "output_type": "stream",
     "text": [
      "['AliasCount', 'CalcNonstdGeometry', 'Concrete', 'CreateNonstd', 'DrawSymbol', 'ElasticParams', 'FindAlias', 'FindNonstd', 'GetAlias', 'GetAliasEx', 'GetNonstd', 'GetValue', 'IsConcrete', 'IsJoist', 'IsSpecial', 'LoadFromDBase', 'LoadFromDBase2', 'MaterialName', 'Members', 'Name', 'NonstdCount', 'RemoveNonstd', 'SetValue', 'ShapeType', 'Special', 'Type', '__class__', '__delattr__', '__dir__', '__doc__', '__eq__', '__format__', '__ge__', '__getattribute__', '__gt__', '__hash__', '__init__', '__init_subclass__', '__iter__', '__le__', '__lt__', '__module__', '__ne__', '__new__', '__reduce__', '__reduce_ex__', '__repr__', '__setattr__', '__sizeof__', '__str__', '__subclasshook__', 'get_AliasCount', 'get_Concrete', 'get_ElasticParams', 'get_IsConcrete', 'get_IsJoist', 'get_IsSpecial', 'get_MaterialName', 'get_Members', 'get_Name', 'get_NonstdCount', 'get_ShapeType', 'get_Special', 'get_Type', 'set_MaterialName', 'set_Name', 'set_ShapeType', 'set_Type']\n",
      "0.0007461282552275761\n",
      "['CompareTo', 'Equals', 'Finalize', 'Format', 'GetHashCode', 'GetName', 'GetNames', 'GetType', 'GetTypeCode', 'GetUnderlyingType', 'GetValues', 'HasFlag', 'I_BSDV_ANGLE1', 'I_BSDV_ANGLE2', 'I_BSDV_AX', 'I_BSDV_AY', 'I_BSDV_AZ', 'I_BSDV_BF', 'I_BSDV_BF2', 'I_BSDV_D', 'I_BSDV_DIM1', 'I_BSDV_DIM2', 'I_BSDV_DIM3', 'I_BSDV_GAMMA', 'I_BSDV_IOMEGA', 'I_BSDV_IX', 'I_BSDV_IY', 'I_BSDV_IZ', 'I_BSDV_P1_LENGTH', 'I_BSDV_P1_THICKNESS', 'I_BSDV_P2_LENGTH', 'I_BSDV_P2_THICKNESS', 'I_BSDV_P3_LENGTH', 'I_BSDV_P3_THICKNESS', 'I_BSDV_P4_LENGTH', 'I_BSDV_P4_THICKNESS', 'I_BSDV_RA', 'I_BSDV_RI', 'I_BSDV_S', 'I_BSDV_SURFACE', 'I_BSDV_TF', 'I_BSDV_TF2', 'I_BSDV_TW', 'I_BSDV_VPY', 'I_BSDV_VPZ', 'I_BSDV_VY', 'I_BSDV_VZ', 'I_BSDV_WEIGHT', 'I_BSDV_WX', 'I_BSDV_WY', 'I_BSDV_WZ', 'I_BSDV_ZY', 'I_BSDV_ZZ', 'IsDefined', 'MemberwiseClone', 'Overloads', 'Parse', 'ReferenceEquals', 'ToObject', 'ToString', 'TryParse', '__call__', '__class__', '__delattr__', '__delitem__', '__dir__', '__doc__', '__eq__', '__format__', '__ge__', '__getattribute__', '__getitem__', '__gt__', '__hash__', '__init__', '__init_subclass__', '__iter__', '__le__', '__lt__', '__module__', '__ne__', '__new__', '__overloads__', '__reduce__', '__reduce_ex__', '__repr__', '__setattr__', '__setitem__', '__sizeof__', '__str__', '__subclasshook__', 'value__']\n",
      "I_BSDV_ANGLE1: 0.0\n",
      "I_BSDV_ANGLE2: 0.0\n",
      "I_BSDV_AX: 0.0014922565104551523\n",
      "I_BSDV_AY: 0.0007461282552275761\n",
      "I_BSDV_AZ: 0.0007461282552275761\n",
      "I_BSDV_BF: 0.0\n",
      "I_BSDV_BF2: 0.0\n",
      "I_BSDV_D: 0.0\n",
      "I_BSDV_DIM1: 0.0\n",
      "I_BSDV_DIM2: 0.0\n",
      "I_BSDV_DIM3: 0.0\n",
      "I_BSDV_GAMMA: 0.0\n",
      "I_BSDV_IOMEGA: 0.0\n",
      "I_BSDV_IX: 3.376230354904782e-06\n",
      "I_BSDV_IY: 1.688115177452391e-06\n",
      "I_BSDV_IZ: 1.688115177452391e-06\n",
      "I_BSDV_P1_LENGTH: 0.0\n",
      "I_BSDV_P1_THICKNESS: 0.0\n",
      "I_BSDV_P2_LENGTH: 0.0\n",
      "I_BSDV_P2_THICKNESS: 0.0\n",
      "I_BSDV_P3_LENGTH: 0.0\n",
      "I_BSDV_P3_THICKNESS: 0.0\n",
      "I_BSDV_P4_LENGTH: 0.0\n",
      "I_BSDV_P4_THICKNESS: 0.0\n",
      "I_BSDV_RA: 0.0\n",
      "I_BSDV_RI: 0.0\n",
      "I_BSDV_S: 0.0\n",
      "I_BSDV_SURFACE: 0.3141592653589793\n",
      "I_BSDV_TF: 0.0\n",
      "I_BSDV_TF2: 0.0\n",
      "I_BSDV_TW: 0.005\n",
      "I_BSDV_VPY: 0.05\n",
      "I_BSDV_VPZ: 0.05\n",
      "I_BSDV_VY: 0.05\n",
      "I_BSDV_VZ: 0.05\n",
      "I_BSDV_WEIGHT: 0.0\n",
      "I_BSDV_WX: 6.752460709809564e-05\n",
      "I_BSDV_WY: 0.0007461282552275761\n",
      "I_BSDV_WZ: 0.0007461282552275761\n",
      "I_BSDV_ZY: 0.0\n",
      "I_BSDV_ZZ: 0.0\n",
      "I_BSNDV_BOX_2_B: 0.005\n",
      "I_BSNDV_BOX_2_B1: 0.0\n",
      "I_BSNDV_BOX_2_H: 0.1\n",
      "I_BSNDV_BOX_2_TF: 0.0\n",
      "I_BSNDV_BOX_2_TW: 0.0\n",
      "I_BSNDV_BOX_3_B: 0.005\n",
      "I_BSNDV_BOX_3_B1: 0.0\n",
      "I_BSNDV_BOX_3_B2: 0.0\n",
      "I_BSNDV_BOX_3_H: 0.1\n",
      "I_BSNDV_BOX_3_TF: 0.0\n",
      "I_BSNDV_BOX_3_TF2: 0.0\n",
      "I_BSNDV_BOX_3_TW: 0.0\n",
      "I_BSNDV_BOX_B: 0.005\n",
      "I_BSNDV_BOX_H: 0.1\n",
      "I_BSNDV_BOX_TF: 0.0\n",
      "I_BSNDV_BOX_TW: 0.0\n",
      "I_BSNDV_CROSS_P1_L: 0.1\n",
      "I_BSNDV_CROSS_P1_T: 0.0\n",
      "I_BSNDV_CROSS_P2_L: 0.005\n",
      "I_BSNDV_CROSS_P2_T: 0.0\n",
      "I_BSNDV_CROSS_P3_L: 0.0\n",
      "I_BSNDV_CROSS_P3_T: 0.0\n",
      "I_BSNDV_CROSS_P4_L: 0.0\n",
      "I_BSNDV_CROSS_P4_T: 0.0\n",
      "I_BSNDV_C_B: 0.005\n",
      "I_BSNDV_C_H: 0.1\n",
      "I_BSNDV_C_TF: 0.0\n",
      "I_BSNDV_C_TW: 0.0\n",
      "I_BSNDV_DRECT_B: 0.1\n",
      "I_BSNDV_DRECT_D: 0.0\n",
      "I_BSNDV_DRECT_H: 0.005\n",
      "I_BSNDV_HOLE_B: 0.1\n",
      "I_BSNDV_HOLE_H: 0.005\n",
      "I_BSNDV_HOLE_X: 0.0\n",
      "I_BSNDV_HOLE_Z: 0.0\n",
      "I_BSNDV_H_B: 0.005\n",
      "I_BSNDV_H_B1: 0.0\n",
      "I_BSNDV_H_H: 0.1\n",
      "I_BSNDV_H_TF: 0.0\n",
      "I_BSNDV_H_TW: 0.0\n",
      "I_BSNDV_II_B1: 0.0\n",
      "I_BSNDV_II_B2: 0.0\n",
      "I_BSNDV_II_H: 0.1\n",
      "I_BSNDV_II_TF1: 0.0\n",
      "I_BSNDV_II_TF2: 0.0\n",
      "I_BSNDV_II_TW: 0.005\n",
      "I_BSNDV_I_B: 0.005\n",
      "I_BSNDV_I_H: 0.1\n",
      "I_BSNDV_I_TF: 0.0\n",
      "I_BSNDV_I_TW: 0.0\n",
      "I_BSNDV_L_B: 0.005\n",
      "I_BSNDV_L_H: 0.1\n",
      "I_BSNDV_L_TF: 0.0\n",
      "I_BSNDV_L_TW: 0.0\n",
      "I_BSNDV_POLYGONAL_D: 0.005\n",
      "I_BSNDV_POLYGONAL_D_IS_INT: 0.0\n",
      "I_BSNDV_POLYGONAL_N: 0.1\n",
      "I_BSNDV_POLYGONAL_T: 0.0\n",
      "I_BSNDV_RECT_B: 0.1\n",
      "I_BSNDV_RECT_H: 0.005\n",
      "I_BSNDV_RECT_T: 0.0\n",
      "I_BSNDV_TUBE_D: 0.1\n",
      "I_BSNDV_TUBE_T: 0.005\n",
      "I_BSNDV_T_B: 0.005\n",
      "I_BSNDV_T_H: 0.1\n",
      "I_BSNDV_T_TF: 0.0\n",
      "I_BSNDV_T_TW: 0.0\n",
      "I_BSNDV_XI_B: 0.0\n",
      "I_BSNDV_XI_H: 0.1\n",
      "I_BSNDV_XI_H1: 0.005\n",
      "I_BSNDV_XI_TF: 0.0\n",
      "I_BSNDV_XI_TW: 0.0\n",
      "I_BSNDV_XT_B: 0.0\n",
      "I_BSNDV_XT_H: 0.1\n",
      "I_BSNDV_XT_H1: 0.005\n",
      "I_BSNDV_XT_TF: 0.0\n",
      "I_BSNDV_XT_TW: 0.0\n",
      "I_BSNDV_Z_B: 0.005\n",
      "I_BSNDV_Z_H: 0.1\n",
      "I_BSNDV_Z_TF: 0.0\n",
      "I_BSNDV_Z_TW: 0.0\n"
     ]
    }
   ],
   "source": [
    "print(dir(data))\n",
    "print(data.GetValue(ar.RobotOM.IRobotBarSectionDataValue.I_BSDV_WY))\n",
    "print(dir(ar.RobotOM.IRobotBarSectionDataValue))\n",
    "\n",
    "for k in dir(ar.RobotOM.IRobotBarSectionDataValue):\n",
    "    if k.startswith('I_BSDV'):\n",
    "        print(f'{k}: {data.GetValue(getattr(ar.RobotOM.IRobotBarSectionDataValue, k))}')\n",
    "\n",
    "ns_data = ar.RobotOM.IRobotBarSectionNonstdData(data.GetNonstd(1))\n",
    "for k in dir(ar.RobotOM.IRobotBarSectionNonstdDataValue):\n",
    "    if k.startswith('I_BSNDV'):\n",
    "        print(f'{k}: {ns_data.GetValue(getattr(ar.RobotOM.IRobotBarSectionNonstdDataValue, k))}')"
   ]
  },
  {
   "cell_type": "code",
   "execution_count": 11,
   "metadata": {},
   "outputs": [
    {
     "name": "stdout",
     "output_type": "stream",
     "text": [
      "['CompareTo', 'Equals', 'Finalize', 'Format', 'GetHashCode', 'GetName', 'GetNames', 'GetType', 'GetTypeCode', 'GetUnderlyingType', 'GetValues', 'HasFlag', 'I_LT_BAREND_BRACKET', 'I_LT_BAR_CABLE', 'I_LT_BAR_ELASTIC_GROUND', 'I_LT_BAR_GEO_IMPERFECTIONS', 'I_LT_BAR_MATERIAL', 'I_LT_BAR_NONLINEAR_HINGE', 'I_LT_BAR_OFFSET', 'I_LT_BAR_RELEASE', 'I_LT_BAR_SECTION', 'I_LT_CLADDING', 'I_LT_COUNT', 'I_LT_EDGE_SUPPORT', 'I_LT_LINEAR_RELEASE', 'I_LT_MATERIAL', 'I_LT_MEMBER_REINFORCEMENT_PARAMS', 'I_LT_MEMBER_TYPE', 'I_LT_NODE_COMPATIBILITY', 'I_LT_NODE_RELEASE', 'I_LT_NODE_RIGID_LINK', 'I_LT_NODE_SUPPORT', 'I_LT_PANEL_CALC_MODEL', 'I_LT_PANEL_REINFORCEMENT', 'I_LT_PANEL_THICKNESS', 'I_LT_SOLID_PROPERTIES', 'I_LT_SUPPORT', 'I_LT_UNKNOWN', 'I_LT_VEHICLE', 'IsDefined', 'MemberwiseClone', 'Overloads', 'Parse', 'ReferenceEquals', 'ToObject', 'ToString', 'TryParse', '__call__', '__class__', '__delattr__', '__delitem__', '__dir__', '__doc__', '__eq__', '__format__', '__ge__', '__getattribute__', '__getitem__', '__gt__', '__hash__', '__init__', '__init_subclass__', '__iter__', '__le__', '__lt__', '__module__', '__ne__', '__new__', '__overloads__', '__reduce__', '__reduce_ex__', '__repr__', '__setattr__', '__setitem__', '__sizeof__', '__str__', '__subclasshook__', 'value__']\n"
     ]
    }
   ],
   "source": [
    "print(dir(ar.robotom.RobotOM.IRobotLabelType))"
   ]
  },
  {
   "cell_type": "code",
   "execution_count": 12,
   "metadata": {},
   "outputs": [
    {
     "name": "stdout",
     "output_type": "stream",
     "text": [
      "8\n",
      "8\n"
     ]
    }
   ],
   "source": [
    "print(ar.robotom.RobotOM.IRobotLabelType.I_LT_BAR_MATERIAL)\n",
    "print(ar.robotom.RobotOM.IRobotLabelType.I_LT_MATERIAL)"
   ]
  },
  {
   "cell_type": "code",
   "execution_count": 13,
   "metadata": {},
   "outputs": [
    {
     "name": "stdout",
     "output_type": "stream",
     "text": [
      "CB71_Category: 0\n",
      "CB71_Humidity: 0.0\n",
      "CB71_Nature: 0\n",
      "CB71_Retreat: 0.0\n",
      "CS: 1.54\n",
      "Default: 0\n",
      "DumpCoef: 0.06\n",
      "E: 205000000000.0\n",
      "EC_Deformation: 0.0\n",
      "E_5: 0.0\n",
      "E_Trans: 0.0\n",
      "GMean: 0.0\n",
      "Kirchoff: 80000000000.0\n",
      "LX: 1.2e-05\n",
      "LoadFromDBase: <bound method 'LoadFromDBase'>\n",
      "NU: 0.3\n",
      "Name: S275\n",
      "Nuance: S275 BS 5950-1 2000\n",
      "PN_Deformation: 0.0\n",
      "PN_E_Additional: 0.0\n",
      "PN_E_Trans: 0.0\n",
      "RE: 275000000.0\n",
      "RE_AxCompr: 0.0\n",
      "RE_AxTens: 0.0\n",
      "RE_Bending: 0.0\n",
      "RE_Shear: 0.0\n",
      "RE_TrCompr: 0.0\n",
      "RE_TrTens: 0.0\n",
      "RO: 77010.0\n",
      "RT: 430000000.0\n",
      "SaveToDBase: <bound method 'SaveToDBase'>\n",
      "SecondName: S275\n",
      "Steel_Thermal: 0\n",
      "Timber_Type: 0\n",
      "Type: 1\n"
     ]
    }
   ],
   "source": [
    "steel_data = rb.materials.get('S275').data\n",
    "for a in dir(steel_data):\n",
    "    if a[0].isupper():\n",
    "        print(f'{a}: {getattr(steel_data, a)}')"
   ]
  },
  {
   "cell_type": "code",
   "execution_count": 14,
   "metadata": {},
   "outputs": [
    {
     "name": "stdout",
     "output_type": "stream",
     "text": [
      "True\n"
     ]
    }
   ],
   "source": [
    "steel = rb.materials.get('S275')\n",
    "print(isinstance(getattr(ar.materials.ExtendedMaterialLabel, 'density'), property))"
   ]
  },
  {
   "cell_type": "code",
   "execution_count": 32,
   "metadata": {},
   "outputs": [
    {
     "name": "stdout",
     "output_type": "stream",
     "text": [
      "0.01 0.01 0.0\n",
      "0.02 0.02 0.002\n",
      "0.03 0.04 0.0\n",
      "0.05 0.06 0.007\n",
      "80.0 80.0 0.0\n"
     ]
    }
   ],
   "source": [
    "from numpy.random import random\n",
    "import numpy as np\n",
    "\n",
    "params = [\n",
    "            ['Rnd Solid', 10.],\n",
    "            ['Rnd Hollow', 20., 0., 2., 'round', False],\n",
    "            ['Rct Solid', 30., 40., 0., 'rect'],\n",
    "            ['Rct Hollow', 50., 60., 7., 'rect', False],\n",
    "            ['Unit', 80., 0., 0., 'round', True, '', 1.],\n",
    "]\n",
    "props = [\n",
    "    # Depth, width, Ix, Iy, Iz\n",
    "    [\n",
    "        params[0][1],\n",
    "        0.,\n",
    "        np.pi * params[0][1] ** 4 / 32,\n",
    "        np.pi * params[0][1] ** 4 / 64,\n",
    "        np.pi * params[0][1] ** 4 / 64,\n",
    "    ],\n",
    "    [\n",
    "\n",
    "    ],\n",
    "]\n",
    "for param in params:\n",
    "    rb.sections.create(*param)\n",
    "    label = rb.sections.get(param[0])\n",
    "    print(label.d, label.b, label.t)"
   ]
  }
 ],
 "metadata": {
  "kernelspec": {
   "display_name": "Python 3",
   "language": "python",
   "name": "python3"
  },
  "language_info": {
   "codemirror_mode": {
    "name": "ipython",
    "version": 3
   },
   "file_extension": ".py",
   "mimetype": "text/x-python",
   "name": "python",
   "nbconvert_exporter": "python",
   "pygments_lexer": "ipython3",
   "version": "3.7.7"
  }
 },
 "nbformat": 4,
 "nbformat_minor": 4
}
