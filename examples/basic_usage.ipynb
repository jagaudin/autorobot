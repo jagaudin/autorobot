{
 "cells": [
  {
   "cell_type": "markdown",
   "metadata": {},
   "source": [
    "# Span tables\n",
    "\n",
    "In this example, you will learn how to manipulate various objects and get an overview of some core functionality of AutoRobot. First make sure the module can be imported from this notebook. If that's the case, the following cell should terminate whitout errors."
   ]
  },
  {
   "cell_type": "code",
   "execution_count": 1,
   "metadata": {},
   "outputs": [],
   "source": [
    "import autorobot as ar"
   ]
  },
  {
   "cell_type": "markdown",
   "metadata": {},
   "source": [
    "Now the module needs initialization. This mainly consist of getting hold of an RSA application instance, which is then used to open a new project."
   ]
  },
  {
   "cell_type": "code",
   "execution_count": 2,
   "metadata": {},
   "outputs": [],
   "source": [
    "import math\n",
    "\n",
    "rb = ar.initialize(\n",
    "    unit_force=1e3,  # Forces in kN in AutoRobot, N in RSA API\n",
    "    unit_angle_in=math.pi/180.,  # Input angles in degrees in AutoRobot, rad in RSA API\n",
    "    unit_section=1e-3  # Section dimensions in mm, m in RSA API\n",
    ")\n",
    "rb.new('FRAME_2D')"
   ]
  },
  {
   "cell_type": "markdown",
   "metadata": {},
   "source": [
    "For our span table, the main paramters are going to be the section size and the material. These values are defined at the top of the script for easier editing later."
   ]
  },
  {
   "cell_type": "code",
   "execution_count": 3,
   "metadata": {},
   "outputs": [],
   "source": [
    "section_name = 'UC 305x305x97'\n",
    "material_name = 'S355'\n",
    "\n",
    "# Looking-up section and material databases\n",
    "current_section = rb.sections.get(section_name)\n",
    "current_material = rb.materials.get(material_name)\n",
    "\n",
    "# Make sure we have a section and material defined\n",
    "assert(current_section and current_material)\n",
    "\n",
    "# Repace the default material for our section\n",
    "current_section.material = current_material\n"
   ]
  },
  {
   "cell_type": "markdown",
   "metadata": {},
   "source": [
    "Now we define a few more parameters: minimum and maximum length, length increment and vertical spacing of beams."
   ]
  },
  {
   "cell_type": "code",
   "execution_count": 4,
   "metadata": {},
   "outputs": [
    {
     "name": "stdout",
     "output_type": "stream",
     "text": [
      "Beam lengths: [2.0, 3.0, 4.0, 5.0, 6.0]\n"
     ]
    }
   ],
   "source": [
    "# Using RSA units, length in meter\n",
    "min_length = 2.\n",
    "max_length = 6.\n",
    "increment = 1.\n",
    "\n",
    "vert_spacing = 1.\n",
    "\n",
    "# Checking interval constants make sense\n",
    "assert(min_length < max_length and increment > 0)\n",
    "\n",
    "def to_mm(length):\n",
    "    \"\"\"Converts length to mm and truncates value to lower integer.\n",
    "    \"\"\"\n",
    "    return int(length * 1e3)\n",
    "\n",
    "def get_beam_lengths(min_len, max_len, increment):\n",
    "    \n",
    "    def get_range_params(min_len, max_len, increment):\n",
    "        \"\"\"Get parameters to obtain beam length through builtin *range*.\n",
    "        \"\"\"\n",
    "        return map(to_mm, (min_len, max_len, increment))\n",
    "    \n",
    "    _range = range(*get_range_params(min_len, max_len, increment))\n",
    "    return [length / 1e3 for length in _range] + [max_len]\n",
    "\n",
    "beam_lengths = get_beam_lengths(min_length, max_length, increment)\n",
    "\n",
    "print(f'Beam lengths: {beam_lengths}')"
   ]
  },
  {
   "cell_type": "markdown",
   "metadata": {},
   "source": [
    "The nodes and bars can now be created. `with rb.nodes, rb.bars:` is not mandatory, it just groups the operations on the node or bar server for effienciency."
   ]
  },
  {
   "cell_type": "code",
   "execution_count": 5,
   "metadata": {},
   "outputs": [],
   "source": [
    "geometry = []\n",
    "\n",
    "with rb.nodes, rb.bars:\n",
    "    for i, length in enumerate(beam_lengths):\n",
    "        start = rb.nodes.create(0., vert_spacing * i, 0.)\n",
    "        end = rb.nodes.create(length, vert_spacing * i, 0.)\n",
    "        bar = rb.bars.create(start, end)\n",
    "        geometry.append((bar, start, end))"
   ]
  },
  {
   "cell_type": "markdown",
   "metadata": {},
   "source": [
    "We now need to group the bars and nodes to be able to select them. "
   ]
  },
  {
   "cell_type": "code",
   "execution_count": 6,
   "metadata": {},
   "outputs": [
    {
     "name": "stdout",
     "output_type": "stream",
     "text": [
      "All bars selection: \t'1 2 3 4 5'\n",
      "Start node selection: \t'1 3 5 7 9'\n",
      "End node selection: \t'2 4 6 8 10'\n"
     ]
    }
   ],
   "source": [
    "sel = []\n",
    "for lst in zip(*geometry):\n",
    "    number_strings = (str(el.Number) for el in lst)\n",
    "    sel.append(' '.join(number_strings))\n",
    "\n",
    "bar_sel, start_sel, end_sel = sel\n",
    "\n",
    "print(f\"All bars selection: \\t'{bar_sel}'\")\n",
    "print(f\"Start node selection: \\t'{start_sel}'\")\n",
    "print(f\"End node selection: \\t'{end_sel}'\")"
   ]
  },
  {
   "cell_type": "markdown",
   "metadata": {},
   "source": [
    "Let's now apply some supports to the nodes and a section property to the bars."
   ]
  },
  {
   "cell_type": "code",
   "execution_count": 7,
   "metadata": {},
   "outputs": [],
   "source": [
    "support_xxxfff = rb.supports.create('xxxfff', '111000')  # A pin support\n",
    "support_fxxfff = rb.supports.create('fxxfff', '011000')  # A roller in the global X axis\n",
    "\n",
    "rb.supports.set(support_xxxfff, start_sel)\n",
    "rb.supports.set(support_fxxfff, end_sel)\n",
    "\n",
    "rb.bars.set_section(current_section, bar_sel)"
   ]
  },
  {
   "cell_type": "markdown",
   "metadata": {},
   "source": [
    "Now let's introduce some loads cases."
   ]
  },
  {
   "cell_type": "code",
   "execution_count": 8,
   "metadata": {},
   "outputs": [],
   "source": [
    "case_1_sw = rb.cases.create_case(1, 'Self-weight', 'PERM', 'LINEAR')\n",
    "\n",
    "case_2_udl = rb.cases.create_case(2, 'UDL', 'IMPOSED', 'LINEAR')"
   ]
  },
  {
   "cell_type": "markdown",
   "metadata": {},
   "source": [
    "And some associated loads."
   ]
  },
  {
   "cell_type": "code",
   "execution_count": 9,
   "metadata": {},
   "outputs": [],
   "source": [
    "rec_1 = case_1_sw.add_self_weight(desc='self-weight')\n",
    "\n",
    "rec_2 = []\n",
    "for bar in rb.bars.select(bar_sel):\n",
    "    rec_2.append(case_2_udl.add_bar_udl(bar.Number, fz=-10., desc=f'udl bar {bar.Number}'))"
   ]
  },
  {
   "cell_type": "markdown",
   "metadata": {},
   "source": [
    "Now we're ready to launch the calculation of the structure."
   ]
  },
  {
   "cell_type": "code",
   "execution_count": 10,
   "metadata": {},
   "outputs": [],
   "source": [
    "rb.calc_engine.calculate()"
   ]
  },
  {
   "cell_type": "code",
   "execution_count": 99,
   "metadata": {},
   "outputs": [],
   "source": [
    "from RobotOM import (\n",
    "    IRDimCalcEngine,\n",
    "    IRDimAllRes,\n",
    "    IRDimDetailedRes,\n",
    "    IRDimStream,\n",
    "    IRDimCalcParam,\n",
    "    IRDimCalcConf,\n",
    "    IRDimCalcParamVerifType,\n",
    "    IRDimCalcParamLimitStateType\n",
    ")\n",
    "\n",
    "engine = IRDimCalcEngine(rb.steel_design.CalculEngine)\n",
    "param = IRDimCalcParam(engine.GetCalcParam())\n",
    "conf = IRDimCalcConf(engine.GetCalcConf())\n",
    "\n",
    "stream = IRDimStream(rb.steel_design.Connection.GetStream())\n",
    "stream.Clear()\n",
    "stream.WriteText(bar_sel)\n",
    "param.SetObjsList(IRDimCalcParamVerifType.I_DCPVT_MEMBERS_VERIF, stream)\n",
    "stream.Clear()\n",
    "param.SetLimitState(IRDimCalcParamLimitStateType.I_DCPLST_ULTIMATE, 1)\n",
    "param.SetLimitState(IRDimCalcParamLimitStateType.I_DCPLST_SERVICEABILITY, 1)\n",
    "\n",
    "stream.WriteText('1 2')\n",
    "param.SetLoadsList(stream)\n",
    "\n",
    "engine.SetCalcConf(conf)\n",
    "engine.SetCalcParam(param)\n",
    "\n",
    "engine.Solve(None)"
   ]
  },
  {
   "cell_type": "code",
   "execution_count": 100,
   "metadata": {},
   "outputs": [
    {
     "name": "stdout",
     "output_type": "stream",
     "text": [
      "2 UDL\n",
      "0.013871166491391178\n",
      "2 UDL\n",
      "0.02241295697134039\n",
      "2 UDL\n",
      "0.042520107052147274\n",
      "2 UDL\n",
      "0.07148264430476993\n",
      "2 UDL\n",
      "0.11141987459431034\n"
     ]
    }
   ],
   "source": [
    "for i in range(5):\n",
    "    res = IRDimAllRes(engine.Results())\n",
    "    det_res = IRDimDetailedRes(res.Get(rb.bars.get(i + 1).Number))\n",
    "\n",
    "    print(det_res.GovernCaseName)\n",
    "    print(det_res.Ratio)"
   ]
  },
  {
   "cell_type": "code",
   "execution_count": 103,
   "metadata": {},
   "outputs": [
    {
     "name": "stdout",
     "output_type": "stream",
     "text": [
      "CantileverMode 0\n",
      "CodeParams System.__ComObject\n",
      "DeflYZRelLimit <bound method 'DeflYZRelLimit'>\n",
      "DisplXYRelLimit <bound method 'DisplXYRelLimit'>\n",
      "Equals <bound method 'Equals'>\n",
      "GetHashCode <bound method 'GetHashCode'>\n",
      "GetType <bound method 'GetType'>\n",
      "GetUserInitDefl <bound method 'GetUserInitDefl'>\n",
      "InitDeflType I_DMDIDT_LACK\n",
      "IntPsClear <bound method 'IntPsClear'>\n",
      "IntPsCoordNum <bound method 'IntPsCoordNum'>\n",
      "IntPsCoordValueType <bound method 'IntPsCoordValueType'>\n",
      "IntPtAddOption <bound method 'IntPtAddOption'>\n",
      "IntPtValues <bound method 'IntPtValues'>\n",
      "IsDeflectionYZ <bound method 'IsDeflectionYZ'>\n",
      "IsDisplacementXY <bound method 'IsDisplacementXY'>\n",
      "IsStructureSwayYZ <bound method 'IsStructureSwayYZ'>\n",
      "LengthYZUV <bound method 'LengthYZUV'>\n",
      "Name Beam\n",
      "PipeMode 0\n",
      "RangeCoords <bound method 'RangeCoords'>\n",
      "RangeMoments 0\n",
      "Retrieve <bound method 'Retrieve'>\n",
      "RetrieveAdjoinParamsYZ <bound method 'RetrieveAdjoinParamsYZ'>\n",
      "RetrieveExpIntPs <bound method 'RetrieveExpIntPs'>\n",
      "SetDeflYZRelLimit <bound method 'SetDeflYZRelLimit'>\n",
      "SetDeflectionYZ <bound method 'SetDeflectionYZ'>\n",
      "SetDisplXYRelLimit <bound method 'SetDisplXYRelLimit'>\n",
      "SetDisplacementXY <bound method 'SetDisplacementXY'>\n",
      "SetIntPsCoordValueType <bound method 'SetIntPsCoordValueType'>\n",
      "SetIntPtAddOption <bound method 'SetIntPtAddOption'>\n",
      "SetIntPtValues <bound method 'SetIntPtValues'>\n",
      "SetLengthYZUV <bound method 'SetLengthYZUV'>\n",
      "SetStructureSwayYZ <bound method 'SetStructureSwayYZ'>\n",
      "SetUserInitDefl <bound method 'SetUserInitDefl'>\n",
      "Store <bound method 'Store'>\n",
      "StoreAdjoinParamsYZ <bound method 'StoreAdjoinParamsYZ'>\n",
      "StoreExpIntPs <bound method 'StoreExpIntPs'>\n",
      "ToString <bound method 'ToString'>\n",
      "Type I_DMDT_BEAM\n",
      "200.0\n",
      "['CompareTo', 'Equals', 'Finalize', 'Format', 'GetHashCode', 'GetName', 'GetNames', 'GetType', 'GetTypeCode', 'GetUnderlyingType', 'GetValues', 'HasFlag', 'I_DMDDDT_DEFL_Y', 'I_DMDDDT_DEFL_Y_FROM_LIVE_LOADS', 'I_DMDDDT_DEFL_Z', 'I_DMDDDT_DEFL_Z_FROM_LIVE_LOADS', 'IsDefined', 'MemberwiseClone', 'Overloads', 'Parse', 'ReferenceEquals', 'ToObject', 'ToString', 'TryParse', '__and__', '__class__', '__delattr__', '__dir__', '__doc__', '__eq__', '__float__', '__format__', '__ge__', '__getattribute__', '__gt__', '__hash__', '__index__', '__init__', '__init_subclass__', '__int__', '__invert__', '__le__', '__lt__', '__module__', '__ne__', '__new__', '__or__', '__overloads__', '__rand__', '__reduce__', '__reduce_ex__', '__repr__', '__ror__', '__rxor__', '__setattr__', '__sizeof__', '__str__', '__subclasshook__', '__xor__', 'value__']\n"
     ]
    }
   ],
   "source": [
    "from RobotOM import IRobotPredefinedLabel, IRobotLabel, IRDimMembDefData, IRDimMembDefDeflDataType\n",
    "\n",
    "name = rb.structure.Labels.GetPredefinedName(IRobotPredefinedLabel.I_PL_MEMBER_TYPE_BEAM)\n",
    "\n",
    "label = IRobotLabel(rb.structure.Labels.Get(ar.constants.RLabelType.I_LT_MEMBER_TYPE, name))\n",
    "\n",
    "data = IRDimMembDefData(label.Data)\n",
    "\n",
    "for attr in dir(data):\n",
    "    if attr[0].isupper():\n",
    "        print(attr, getattr(data, attr))\n",
    "        \n",
    "print(data.DeflYZRelLimit(IRDimMembDefDeflDataType.I_DMDDDT_DEFL_Z))\n",
    "\n",
    "print(dir(IRDimMembDefDeflDataType))"
   ]
  },
  {
   "cell_type": "code",
   "execution_count": 35,
   "metadata": {},
   "outputs": [
    {
     "data": {
      "text/plain": [
       "'EN 1995-1:2004/A2:2014'"
      ]
     },
     "execution_count": 35,
     "metadata": {},
     "output_type": "execute_result"
    }
   ],
   "source": [
    "from RobotOM import IRobotCodeType\n",
    "\n",
    "rb.Project.Preferences.GetActiveCode(IRobotCodeType(2))"
   ]
  },
  {
   "cell_type": "code",
   "execution_count": 102,
   "metadata": {},
   "outputs": [
    {
     "name": "stdout",
     "output_type": "stream",
     "text": [
      "CodeResults System.__ComObject\n",
      "EffDef RobotOM.RDimEffDefClass\n",
      "Equals <bound method 'Equals'>\n",
      "GetGovernCase_uy <bound method 'GetGovernCase_uy'>\n",
      "GetGovernCase_uz <bound method 'GetGovernCase_uz'>\n",
      "GetGovernCase_vx <bound method 'GetGovernCase_vx'>\n",
      "GetGovernCase_vy <bound method 'GetGovernCase_vy'>\n",
      "GetHashCode <bound method 'GetHashCode'>\n",
      "GetType <bound method 'GetType'>\n",
      "GovernCaseName 2 UDL\n",
      "GovernCaseName_uy 1 Self-weight\n",
      "GovernCaseName_uz 2 UDL\n",
      "GovernCaseName_vx \n",
      "GovernCaseName_vy \n",
      "IsLimitStateService_uy 1\n",
      "IsLimitStateService_uz 1\n",
      "IsLimitStateService_vx 0\n",
      "IsLimitStateService_vy 0\n",
      "IsLimitStateUltimate 1\n",
      "Lay 44.61067539895089\n",
      "Laz 77.84030640030016\n",
      "MatDef RobotOM.RDimMatDefClass\n",
      "MaterialName S355\n",
      "MembDef RobotOM.RDimMembDefClass\n",
      "MemberUsrNo 5\n",
      "ProfDef RobotOM.RDimProfDefClass\n",
      "ProfileName UC 305x305x97\n",
      "Ratio 0.11141987459431034\n",
      "RelLimit_uy 0.03\n",
      "RelLimit_uz 0.03\n",
      "RelLimit_vx 0.0\n",
      "RelLimit_vy -1.0\n",
      "ResOfCalc I_DMCRV_CORRECT\n",
      "ToString <bound method 'ToString'>\n",
      "UY 0.0\n",
      "UZ 0.003699643738010413\n",
      "AxForcExcentrEnz 0.0\n",
      "AxForceExcentrEny 0.0\n",
      "BendParamBetMy 0.0\n",
      "BendParamBetaMlty 0.0\n",
      "BendParamBetaMltz 0.0\n",
      "BendParamBetaMz 0.0\n",
      "BuckCoeffMinXi 1.0\n",
      "BuckCoeffXy 1.0\n",
      "BuckCoeffXz 1.0\n",
      "BuckCurveCoeffAlfy 0.34\n",
      "BuckCurveCoeffAlfz 0.49\n",
      "BuckCurveNumbY 0.0\n",
      "BuckCurveNumbZ 0.0\n",
      "BuckParamFiy 0.7410470168415417\n",
      "BuckParamFiz 1.235176211395102\n",
      "BuckParamKy 1.0\n",
      "BuckParamKz 1.0\n",
      "BuckRelSlendLaby 0.5909165747196492\n",
      "BuckRelSlendLabz 1.0310789249847376\n",
      "BuckSLendLamy 44.61067539895089\n",
      "BuckStrenNbyrd 4366.5\n",
      "BuckStrenNbzrd 4366.5\n",
      "BuclSlendLamz 77.84030640030016\n",
      "ClassOfSect 3\n",
      "ClassOfSectElem1 1\n",
      "ClassOfSectElem2 3\n",
      "ClassOfSectElem3 3\n",
      "ClassOfSectElem4 1\n",
      "CompParamBetaA 1.0\n",
      "CritMomenMcr 645.0192028348519\n",
      "EffSectAreaSeff 0.0123\n",
      "EffSectModulWyeff 0.0014452744397531665\n",
      "EffSectModulWzeff 0.0004787422207664592\n",
      "EffectiveMomenMeff 0.0\n",
      "ElastMomStrenMelyrd 513.072426112374\n",
      "ElastMomStrenMelzrd 169.953488372093\n",
      "ElastSectModulWyel 0.0014452744397531665\n",
      "ElastSectModulWzel 0.0004787422207664592\n",
      "Equals <bound method 'Equals'>\n",
      "FlangeAreaAf 0.009857669999999999\n",
      "FlangeAreaAw 0.00351738\n",
      "GetHashCode <bound method 'GetHashCode'>\n",
      "GetType <bound method 'GetType'>\n",
      "InteractParamAlfa 0.0\n",
      "InteractParamBeta 0.0\n",
      "InteractParamMilt 0.0\n",
      "InteractParamMiy 0.0\n",
      "InteractParamMiz 0.0\n",
      "IsBuckY 0\n",
      "IsBuckZ 0\n",
      "LaodLevel 0.15395\n",
      "LatBuckCoeffXlt 0.7647814898963696\n",
      "LatBuckLengthLd 6.0\n",
      "LatBuckMomStrenmbrd 403.90947063303605\n",
      "LatBuckParamBetaW 0.9078357033625417\n",
      "LatBuckParamC1 1.127\n",
      "LatBuckParamC2 0.454\n",
      "LatBuckParamFilt 0.8819074511637238\n",
      "LatBuckParamKlt 1.0\n",
      "LatBuckParamLd 1\n",
      "LatBuckSlendLamlt 0.8918729977534384\n",
      "LowFlanSlend1 1.0\n",
      "LowFlanSlend2 0.0\n",
      "MaterCoeffGamma0 1.0\n",
      "MaterCoeffGamma1 1.0\n",
      "MaterCoeffGamma2 1.1\n",
      "MaterialCapacityFy 355.0\n",
      "MaxBuckSlend 1.0310789249847376\n",
      "MomStrengthMpzEuro 0.0\n",
      "OverallBuckStrenNbrd 4366.5\n",
      "PlastAxForcStrenNplrd 4366.5\n",
      "PlastCompStrenNcrd 4366.5\n",
      "PlastMomStrenMplyrd 565.16\n",
      "PlastMomStrenMplzrd 257.73\n",
      "PlastSectModulWypl 0.001592\n",
      "PlastSectModulWzpl 0.000726\n",
      "PlastTensStrenNtrd 4366.5\n",
      "ReducMomStrenMcyrd 513.072426112374\n",
      "ReducMomStrenMczrd 169.953488372093\n",
      "ReducMomStrenMnyrd 0.0\n",
      "ReducMomStrenMnzrd 0.0\n",
      "ReducMomStrenMvyrd 513.072426112374\n",
      "ReducMomStrenMvzrd 169.953488372093\n",
      "ShearStrenTplyrd 2020.4215919692867\n",
      "ShearStrenTplzrd 720.9199028939831\n",
      "StrsComp 0.0\n",
      "StrsLftEdgeMZ 0.0\n",
      "StrsLowEdgeMY -31.13595505617978\n",
      "StrsRgtEdgeMZ 0.0\n",
      "StrsShearY 0.0\n",
      "StrsShearZ 0.0\n",
      "StrsTens 0.0\n",
      "StrsUprEdgeMY 31.13595505617978\n",
      "TensStrenNurd 0.0\n",
      "ToString <bound method 'ToString'>\n",
      "TorsMomInertIt 9.12e-07\n",
      "UppFlanSlend 8.603896103896105\n",
      "WarpingConstantIw 1.5631126874999996e-06\n",
      "WebSlend 24.919191919191917\n",
      "WebSlend1 0.0\n",
      "BuckCheckMy 0.11141110390274522\n",
      "BuckCheckNb 0.0\n",
      "BuckCheckNyMyMz 0.0\n",
      "BuckCheckNzMyMz 0.0\n",
      "BuckCurveY 2.0\n",
      "BuckCurveZ 3.0\n",
      "CompPartElastSectModulWyel 0.0014452744397531665\n",
      "CompPartElastSectModulWzel 0.0004787422207664592\n",
      "CritTorsFlexStrenNxy 0.0\n",
      "CritTorsStrenNx 0.0\n",
      "EffBendStrsSigEffMyLow -31.13595505617978\n",
      "EffBendStrsSigEffMyUpp 31.13595505617978\n",
      "EffBendStrsSigEffMzLeft 0.0\n",
      "EffBendStrsSigEffMzRght 0.0\n",
      "EffComprStrsSigEffC 0.0\n",
      "EffectSectModulWypleff 0.0\n",
      "EffectSectModulWzpleff 0.0\n",
      "Equals <bound method 'Equals'>\n",
      "GetHashCode <bound method 'GetHashCode'>\n",
      "GetType <bound method 'GetType'>\n",
      "IsPlastShearAnal 1.0\n",
      "MaEffRatio 0.11141987459431034\n",
      "MaxEffStrsSigEff 31.135955056179775\n",
      "MaxStrsSig 31.135955056179775\n",
      "NonEffFlanPartBneffFl 0.0\n",
      "NonEffWebPartHneffWeb 0.0\n",
      "PartEffRatio1 0.0\n",
      "PartEffRatio2 0.0\n",
      "PartEffRatio3 0.0\n",
      "PartEffRatio4 0.0\n",
      "PartEffRatio5 0.0\n",
      "PartEffRatio6 0.0\n",
      "PartEffRatio6Y 0.0\n",
      "PartEffRatio6Z 0.0\n",
      "PartEffRatio7Y 0.0\n",
      "PartEffRatio7Z 0.0\n",
      "ProfCodeAct 4.0\n",
      "ProfGroup 1.0\n",
      "SecCheckExactVy 0.0\n",
      "SecCheckExactVz 0.0\n",
      "SecCheckMises 0.0\n",
      "SecCheckMy 0.08770691565121065\n",
      "SecCheckMyMz 0.0\n",
      "SecCheckMyVz 0.0\n",
      "SecCheckMz 0.0\n",
      "SecCheckMzVy 0.0\n",
      "SecCheckNMy 0.0\n",
      "SecCheckNMyMz 0.0\n",
      "SecCheckNMz 0.0\n",
      "SecCheckNc 0.0\n",
      "SecCheckNt 0.0\n",
      "SecCheckVy 0.0\n",
      "SecCheckVyTors 0.0\n",
      "SecCheckVz 0.0\n",
      "SecCheckVzTors 0.0\n",
      "ShearCoeffEtaV 1.0\n",
      "ShearExactFlanArea 0.006383647798742138\n",
      "ShearExactStressTauY 0.0\n",
      "ShearExactStressTauZ 0.0\n",
      "ShearExactWebAreaAw 0.0027712273414393653\n",
      "ShearFlanSlendXs 0.0\n",
      "ShearMaterialCapacityFs 204.95934556231714\n",
      "ShearMaxWebSlendBetaV 58.58038896961155\n",
      "ShearTorsStrenVtyrd 0.0\n",
      "ShearTorsStrenVtzrd 0.0\n",
      "ShearWebSlendYs 27.98989898989899\n",
      "ToString <bound method 'ToString'>\n",
      "TorsBuckCoeffXx 1.0\n",
      "TorsBuckParamFix 1.0\n",
      "TorsBuckStrenNbtfrd 0.0\n",
      "TorsBuckStrenNbtrd 0.0\n",
      "TorsFlexBuckCoeffXxy 1.0\n",
      "TorsFlexBuckParamFixy 1.0\n",
      "TorsFlexSlendLambxy 0.0\n",
      "TorsLengthLt 1.0\n",
      "TorsShearStressTauTorsY 0.0\n",
      "TorsShearStressTauTorsZ 0.0\n",
      "TorsSlendLambx 0.0\n"
     ]
    }
   ],
   "source": [
    "from RobotOM import IRobotBarSectionDataValue, IRDimCodeResE32_1, IRDimCodeResE32_2, IRDimCodeResE32_3, IRDimCodeResE32_4\n",
    "\n",
    "# for i in range(38):\n",
    "#     print(i, ': ', current_section.data.GetValue(IRobotBarSectionDataValue(i, True)))\n",
    "\n",
    "code_res_1 = IRDimCodeResE32_1(det_res.CodeResults)\n",
    "code_res_2 = IRDimCodeResE32_2(det_res.CodeResults)\n",
    "code_res_3 = IRDimCodeResE32_3(det_res.CodeResults)\n",
    "code_res_4 = IRDimCodeResE32_4(det_res.CodeResults)\n",
    "# print(dir(code_res_1))\n",
    "# print(dir(code_res_2))\n",
    "# print(dir(code_res_3))\n",
    "# print(dir(code_res_4))\n",
    "\n",
    "for attr in dir(det_res):\n",
    "    if attr[0].isupper():\n",
    "        print(attr, getattr(det_res, attr))\n",
    "\n",
    "\n",
    "for attr in dir(code_res_1):\n",
    "    if attr[0].isupper():\n",
    "        print(attr, getattr(code_res_1, attr))\n",
    "\n",
    "for attr in dir(code_res_2):\n",
    "    if attr[0].isupper():\n",
    "        print(attr, getattr(code_res_2, attr))\n",
    "\n"
   ]
  }
 ],
 "metadata": {
  "kernelspec": {
   "display_name": "Python 3 (ipykernel)",
   "language": "python",
   "name": "python3"
  },
  "language_info": {
   "codemirror_mode": {
    "name": "ipython",
    "version": 3
   },
   "file_extension": ".py",
   "mimetype": "text/x-python",
   "name": "python",
   "nbconvert_exporter": "python",
   "pygments_lexer": "ipython3",
   "version": "3.10.4"
  }
 },
 "nbformat": 4,
 "nbformat_minor": 4
}
