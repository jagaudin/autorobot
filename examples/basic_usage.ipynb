{
 "cells": [
  {
   "cell_type": "code",
   "execution_count": 1,
   "metadata": {},
   "outputs": [],
   "source": [
    "%load_ext autoreload"
   ]
  },
  {
   "cell_type": "code",
   "execution_count": 2,
   "metadata": {},
   "outputs": [],
   "source": [
    "%autoreload 2"
   ]
  },
  {
   "cell_type": "code",
   "execution_count": 3,
   "metadata": {},
   "outputs": [],
   "source": [
    "import sys\n",
    "sys.path.append('..')\n",
    "\n",
    "import autorobot as ar\n",
    "from autorobot.constants import (\n",
    "    RProjType,\n",
    ")"
   ]
  },
  {
   "cell_type": "code",
   "execution_count": 4,
   "metadata": {},
   "outputs": [],
   "source": [
    "rb = ar.initialize()"
   ]
  },
  {
   "cell_type": "code",
   "execution_count": 5,
   "metadata": {},
   "outputs": [
    {
     "name": "stdout",
     "output_type": "stream",
     "text": [
      "{'BAR': <ROType.BAR: 1>, 'NODE': <ROType.NODE: 0>, 'BUILDING': <RProjType.BUILDING: 19>, 'FRAME_2D': <RProjType.FRAME_2D: 1>, 'FRAME_3D': <RProjType.FRAME_3D: 4>, 'SHELL': <RProjType.SHELL: 7>, 'TRUSS_2D': <RProjType.TRUSS_2D: 2>, 'TRUSS_3D': <RProjType.TRUSS_3D: 5>, 'PERM': <RCaseNature.PERM: 0>, 'IMPOSED': <RCaseNature.IMPOSED: 1>, 'WIND': <RCaseNature.WIND: 2>, 'SNOW': <RCaseNature.SNOW: 3>, 'ACC': <RCaseNature.ACC: 5>, 'SLS': <RCombType.SLS: 1>, 'ULS': <RCombType.ULS: 0>, 'LINEAR': <RAnalysisType.LINEAR: 1>, 'NON_LIN': <RAnalysisType.NON_LIN: 2>, 'COMB_LINEAR': <RAnalysisType.COMB_LINEAR: 0>, 'COMB_NON_LIN': <RAnalysisType.COMB_NON_LIN: -1>, 'ORIGIN': array([0., 0., 0.]), 'X AXIS': array([1., 0., 0.]), 'Y AXIS': array([0., 1., 0.]), 'Z AXIS': array([0., 0., 1.]), <RAnalysisType.LINEAR: 1>: 1, <RAnalysisType.NON_LIN: 2>: 2, <RAnalysisType.COMB_LINEAR: 0>: 0, <RAnalysisType.COMB_NON_LIN: -1>: -1, <RCaseNature.SNOW: 3>: 3, <RCaseNature.ACC: 5>: 5, <ROType.GEOMETRY: 6>: 6, <ROType.OBJECT: -2>: -2, <ROType.PANEL: 4>: 4, <ROType.VOLUME: 7>: 7, <RProjType.BUILDING: 19>: 19}\n"
     ]
    }
   ],
   "source": [
    "from autorobot.synonyms import synonyms\n",
    "\n",
    "print(ar.app.synonyms)"
   ]
  },
  {
   "cell_type": "code",
   "execution_count": 6,
   "metadata": {},
   "outputs": [],
   "source": [
    "rb.new('SHELL')"
   ]
  },
  {
   "cell_type": "code",
   "execution_count": 7,
   "metadata": {},
   "outputs": [],
   "source": [
    "n1 = rb.nodes.create(0,0,0)\n",
    "n2 = rb.nodes.create(10,0,0)"
   ]
  },
  {
   "cell_type": "code",
   "execution_count": 8,
   "metadata": {},
   "outputs": [],
   "source": [
    "bar = rb.bars.create(1, 2)"
   ]
  },
  {
   "cell_type": "code",
   "execution_count": 9,
   "metadata": {},
   "outputs": [
    {
     "name": "stdout",
     "output_type": "stream",
     "text": [
      "System.__ComObject\n"
     ]
    }
   ],
   "source": [
    "label = ar.RobotOM.IRobotLabel(bar.GetLabel(ar.constants.RLabelType.MAT))\n",
    "print(label)"
   ]
  },
  {
   "cell_type": "code",
   "execution_count": 10,
   "metadata": {},
   "outputs": [
    {
     "name": "stdout",
     "output_type": "stream",
     "text": [
      "<class 'int'>\n",
      "<class 'int'>\n"
     ]
    }
   ],
   "source": [
    "ar.RobotOM.IRobotLoadRecordType.I_LRT_BODY_FORCE = 89\n",
    "\n",
    "print(type(ar.RobotOM.IRobotLoadRecordType.I_LRT_DEAD))\n",
    "print(type(ar.RobotOM.IRobotLoadRecordType.I_LRT_BODY_FORCE))"
   ]
  },
  {
   "cell_type": "code",
   "execution_count": 11,
   "metadata": {},
   "outputs": [],
   "source": [
    "import autorobot.geometry as geom\n",
    "geom.translate('BAR', '1', (0., 4., 0.), copy=True, count=2)"
   ]
  },
  {
   "cell_type": "code",
   "execution_count": 12,
   "metadata": {},
   "outputs": [],
   "source": [
    "rb.geom.translate('NODE', '1to3', (0., 0., 2.), copy=False)"
   ]
  },
  {
   "cell_type": "code",
   "execution_count": 13,
   "metadata": {},
   "outputs": [],
   "source": [
    "rb.selections.clear_current()"
   ]
  },
  {
   "cell_type": "code",
   "execution_count": 21,
   "metadata": {},
   "outputs": [],
   "source": [
    "import math\n",
    "rb.geom.rotate('BAR', '1', (0., 0., 0.), (0., 0., 1.), math.pi / 2)"
   ]
  }
 ],
 "metadata": {
  "kernelspec": {
   "display_name": "Python 3",
   "language": "python",
   "name": "python3"
  },
  "language_info": {
   "codemirror_mode": {
    "name": "ipython",
    "version": 3
   },
   "file_extension": ".py",
   "mimetype": "text/x-python",
   "name": "python",
   "nbconvert_exporter": "python",
   "pygments_lexer": "ipython3",
   "version": "3.7.7"
  }
 },
 "nbformat": 4,
 "nbformat_minor": 4
}
