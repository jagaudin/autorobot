{
 "cells": [
  {
   "cell_type": "code",
   "execution_count": 1,
   "metadata": {},
   "outputs": [],
   "source": [
    "%load_ext autoreload"
   ]
  },
  {
   "cell_type": "code",
   "execution_count": 2,
   "metadata": {},
   "outputs": [],
   "source": [
    "%autoreload 2"
   ]
  },
  {
   "cell_type": "code",
   "execution_count": 3,
   "metadata": {},
   "outputs": [],
   "source": [
    "import sys\n",
    "sys.path.append('..')\n",
    "\n",
    "import autorobot as ar\n",
    "from autorobot.constants import (\n",
    "    RProjType,\n",
    ")"
   ]
  },
  {
   "cell_type": "code",
   "execution_count": 4,
   "metadata": {},
   "outputs": [],
   "source": [
    "rb = ar.initialize()"
   ]
  },
  {
   "cell_type": "code",
   "execution_count": 5,
   "metadata": {},
   "outputs": [
    {
     "name": "stdout",
     "output_type": "stream",
     "text": [
      "{'BUILDING': <RProjType.BUILDING: 19>, 'FRAME_2D': <RProjType.FRAME_2D: 1>, 'FRAME_3D': <RProjType.FRAME_3D: 4>, 'SHELL': <RProjType.SHELL: 7>, 'TRUSS_2D': <RProjType.TRUSS_2D: 2>, 'TRUSS_3D': <RProjType.TRUSS_3D: 5>, 'PERM': <RCaseNature.PERM: 0>, 'IMPOSED': <RCaseNature.IMPOSED: 1>, 'WIND': <RCaseNature.WIND: 2>, 'SNOW': <RCaseNature.SNOW: 3>, 'ACC': <RCaseNature.ACC: 5>, 'SLS': <RCombType.SLS: 1>, 'ULS': <RCombType.ULS: 0>, 'LINEAR': <RAnalysisType.LINEAR: 1>, 'NON_LIN': <RAnalysisType.NON_LIN: 2>, 'COMB_LINEAR': <RAnalysisType.COMB_LINEAR: 0>, 'COMB_NON_LIN': <RAnalysisType.COMB_NON_LIN: -1>, <RCaseNature.PERM: 0>: 0, <RCaseNature.IMPOSED: 1>: 1, <RCaseNature.WIND: 2>: 2, <RCaseNature.SNOW: 3>: 3, <RCaseNature.ACC: 5>: 5, <RProjType.BUILDING: 19>: 19, <RProjType.FRAME_3D: 4>: 4, <RProjType.SHELL: 7>: 7, <RAnalysisType.COMB_NON_LIN: -1>: -1}\n"
     ]
    }
   ],
   "source": [
    "from autorobot.synonyms import synonyms\n",
    "\n",
    "print(ar.app.synonyms)"
   ]
  },
  {
   "cell_type": "code",
   "execution_count": 6,
   "metadata": {},
   "outputs": [],
   "source": [
    "rb.new('SHELL')"
   ]
  },
  {
   "cell_type": "code",
   "execution_count": 7,
   "metadata": {},
   "outputs": [],
   "source": [
    "n1 = rb.nodes.create(0,0,0)\n",
    "n2 = rb.nodes.create(10,0,0)"
   ]
  },
  {
   "cell_type": "code",
   "execution_count": 8,
   "metadata": {},
   "outputs": [],
   "source": [
    "bar = rb.bars.create(1, 2)"
   ]
  },
  {
   "cell_type": "code",
   "execution_count": 9,
   "metadata": {},
   "outputs": [
    {
     "name": "stdout",
     "output_type": "stream",
     "text": [
      "System.__ComObject\n"
     ]
    }
   ],
   "source": [
    "label = ar.RobotOM.IRobotLabel(bar.GetLabel(ar.constants.RLabelType.MAT))\n",
    "print(label)"
   ]
  },
  {
   "cell_type": "code",
   "execution_count": 10,
   "metadata": {},
   "outputs": [],
   "source": [
    "case_1 = rb.cases.create_case(1, 'case 1', 'PERM', 'LINEAR', overwrite=True)"
   ]
  },
  {
   "cell_type": "code",
   "execution_count": 11,
   "metadata": {},
   "outputs": [
    {
     "ename": "TypeError",
     "evalue": "property is read-only",
     "output_type": "error",
     "traceback": [
      "\u001b[1;31m---------------------------------------------------------------------------\u001b[0m",
      "\u001b[1;31mTypeError\u001b[0m                                 Traceback (most recent call last)",
      "\u001b[1;32m<ipython-input-11-bfdc2bc3d135>\u001b[0m in \u001b[0;36m<module>\u001b[1;34m\u001b[0m\n\u001b[0;32m      1\u001b[0m \u001b[0mcase_1\u001b[0m\u001b[1;33m.\u001b[0m\u001b[0madd_bar_udl\u001b[0m\u001b[1;33m(\u001b[0m\u001b[1;34m'1'\u001b[0m\u001b[1;33m,\u001b[0m \u001b[0mfz\u001b[0m\u001b[1;33m=\u001b[0m\u001b[1;33m-\u001b[0m\u001b[1;36m2.\u001b[0m\u001b[1;33m,\u001b[0m \u001b[0mdesc\u001b[0m\u001b[1;33m=\u001b[0m\u001b[1;34m'udl on bar 1'\u001b[0m\u001b[1;33m)\u001b[0m\u001b[1;33m\u001b[0m\u001b[1;33m\u001b[0m\u001b[0m\n\u001b[1;32m----> 2\u001b[1;33m \u001b[0mcase_1\u001b[0m\u001b[1;33m.\u001b[0m\u001b[0madd_mass_accel\u001b[0m\u001b[1;33m(\u001b[0m\u001b[0max\u001b[0m\u001b[1;33m=\u001b[0m\u001b[1;36m3.\u001b[0m\u001b[1;33m,\u001b[0m \u001b[0mdesc\u001b[0m\u001b[1;33m=\u001b[0m\u001b[1;34m'mass acceleration'\u001b[0m\u001b[1;33m)\u001b[0m\u001b[1;33m\u001b[0m\u001b[1;33m\u001b[0m\u001b[0m\n\u001b[0m\u001b[0;32m      3\u001b[0m \u001b[0mcase_1\u001b[0m\u001b[1;33m.\u001b[0m\u001b[0madd_self_weight\u001b[0m\u001b[1;33m(\u001b[0m\u001b[0mfactor\u001b[0m\u001b[1;33m=\u001b[0m\u001b[1;36m2.\u001b[0m\u001b[1;33m,\u001b[0m \u001b[0mdesc\u001b[0m\u001b[1;33m=\u001b[0m\u001b[1;34m'self weight'\u001b[0m\u001b[1;33m)\u001b[0m\u001b[1;33m\u001b[0m\u001b[1;33m\u001b[0m\u001b[0m\n",
      "\u001b[1;32m~\\source\\repos\\autorobot\\autorobot\\cases.py\u001b[0m in \u001b[0;36madd_mass_accel\u001b[1;34m(self, s, ax, ay, az, is_relative, desc)\u001b[0m\n\u001b[0;32m     65\u001b[0m         \"\"\"\n\u001b[0;32m     66\u001b[0m         \u001b[0mrec\u001b[0m \u001b[1;33m=\u001b[0m \u001b[0mIRobotLoadRecord\u001b[0m\u001b[1;33m(\u001b[0m\u001b[0mself\u001b[0m\u001b[1;33m.\u001b[0m\u001b[0mRecords\u001b[0m\u001b[1;33m.\u001b[0m\u001b[0mCreate\u001b[0m\u001b[1;33m(\u001b[0m\u001b[1;36m0\u001b[0m\u001b[1;33m)\u001b[0m\u001b[1;33m)\u001b[0m\u001b[1;33m\u001b[0m\u001b[1;33m\u001b[0m\u001b[0m\n\u001b[1;32m---> 67\u001b[1;33m         \u001b[0mrec\u001b[0m\u001b[1;33m.\u001b[0m\u001b[0mType\u001b[0m \u001b[1;33m=\u001b[0m \u001b[1;36m89\u001b[0m  \u001b[1;31m# Body force code is not implemented in API\u001b[0m\u001b[1;33m\u001b[0m\u001b[1;33m\u001b[0m\u001b[0m\n\u001b[0m\u001b[0;32m     68\u001b[0m         \u001b[0mrec\u001b[0m\u001b[1;33m.\u001b[0m\u001b[0mObjects\u001b[0m\u001b[1;33m.\u001b[0m\u001b[0mFromText\u001b[0m\u001b[1;33m(\u001b[0m\u001b[0mstr\u001b[0m\u001b[1;33m(\u001b[0m\u001b[0ms\u001b[0m\u001b[1;33m)\u001b[0m\u001b[1;33m)\u001b[0m\u001b[1;33m\u001b[0m\u001b[1;33m\u001b[0m\u001b[0m\n\u001b[0;32m     69\u001b[0m         \u001b[0mrec\u001b[0m\u001b[1;33m.\u001b[0m\u001b[0mDescription\u001b[0m \u001b[1;33m=\u001b[0m \u001b[0mdesc\u001b[0m\u001b[1;33m\u001b[0m\u001b[1;33m\u001b[0m\u001b[0m\n",
      "\u001b[1;31mTypeError\u001b[0m: property is read-only"
     ]
    }
   ],
   "source": [
    "case_1.add_bar_udl('1', fz=-2., desc='udl on bar 1')\n",
    "case_1.add_mass_accel(ax=3., desc='mass acceleration')\n",
    "case_1.add_self_weight(factor=2., desc='self weight')"
   ]
  },
  {
   "cell_type": "code",
   "execution_count": 12,
   "metadata": {},
   "outputs": [
    {
     "name": "stdout",
     "output_type": "stream",
     "text": [
      "['Description', 'GetValue', 'ObjectType', 'Objects', 'SetValue', 'Type', '__class__', '__delattr__', '__dir__', '__doc__', '__eq__', '__format__', '__ge__', '__getattribute__', '__gt__', '__hash__', '__init__', '__init_subclass__', '__iter__', '__le__', '__lt__', '__module__', '__ne__', '__new__', '__reduce__', '__reduce_ex__', '__repr__', '__setattr__', '__sizeof__', '__str__', '__subclasshook__', 'get_Description', 'get_ObjectType', 'get_Objects', 'get_Type', 'set_Description', 'set_ObjectType']\n"
     ]
    }
   ],
   "source": [
    "rec = ar.RobotOM.IRobotLoadRecord(case_1.Records.Create(0))\n",
    "print(dir(rec))"
   ]
  },
  {
   "cell_type": "code",
   "execution_count": 13,
   "metadata": {},
   "outputs": [
    {
     "name": "stdout",
     "output_type": "stream",
     "text": [
      "['__abstractmethods__', '__class__', '__delattr__', '__dict__', '__dir__', '__doc__', '__eq__', '__format__', '__ge__', '__getattr__', '__getattribute__', '__gt__', '__hash__', '__init__', '__init_subclass__', '__le__', '__lt__', '__module__', '__ne__', '__new__', '__reduce__', '__reduce_ex__', '__repr__', '__setattr__', '__sizeof__', '__slots__', '__str__', '__subclasshook__', '__weakref__', '_abc_impl', '_inst', '_otype', 'add_bar_pl', 'add_bar_udl', 'add_mass_accel', 'add_self_weight', 'delete', 'get', 'load_type_values', 'loads']\n",
      "[{'Type': 5, 'Description': 'udl on bar 1', 'FX': 0.0, 'FY': 0.0, 'FZ': -2000.0, 'ALPHA': 0.0, 'BETA': 0.0, 'GAMMA': 0.0, 'IS_LOC': 0.0, 'IS_PROJ': 0.0, 'IS_REL': 0.0, 'OFFSET_Y': 0.0, 'OFFSET_Z': 0.0}, {'Type': 0, 'Description': ''}, {'Type': 0, 'Description': ''}]\n"
     ]
    }
   ],
   "source": [
    "print(dir(case_1))\n",
    "case_1.loads\n",
    "\n",
    "case = rb.cases.get(1)\n",
    "print(case.loads)"
   ]
  },
  {
   "cell_type": "code",
   "execution_count": 14,
   "metadata": {},
   "outputs": [
    {
     "name": "stdout",
     "output_type": "stream",
     "text": [
      "['CompareTo', 'Equals', 'Finalize', 'Format', 'GetHashCode', 'GetName', 'GetNames', 'GetType', 'GetTypeCode', 'GetUnderlyingType', 'GetValues', 'HasFlag', 'I_LRT_BAR_DEAD', 'I_LRT_BAR_DILATATION', 'I_LRT_BAR_FORCE_CONCENTRATED', 'I_LRT_BAR_FORCE_CONCENTRATED_MASS', 'I_LRT_BAR_MOMENT_DISTRIBUTED', 'I_LRT_BAR_THERMAL', 'I_LRT_BAR_TRAPEZOIDALE', 'I_LRT_BAR_TRAPEZOIDALE_MASS', 'I_LRT_BAR_UNIFORM', 'I_LRT_BAR_UNIFORM_MASS', 'I_LRT_DEAD', 'I_LRT_IN_3_POINTS', 'I_LRT_IN_CONTOUR', 'I_LRT_LINEAR', 'I_LRT_LINEAR_3D', 'I_LRT_LINEAR_ON_EDGES', 'I_LRT_MASS_ACTIVATION', 'I_LRT_MOBILE_DISTRIBUTED', 'I_LRT_MOBILE_POINT_FORCE', 'I_LRT_NODE_ACCELERATION', 'I_LRT_NODE_AUXILIARY', 'I_LRT_NODE_DISPLACEMENT', 'I_LRT_NODE_FORCE', 'I_LRT_NODE_FORCE_IN_POINT', 'I_LRT_NODE_FORCE_MASS', 'I_LRT_NODE_VELOCITY', 'I_LRT_POINT_AUXILIARY', 'I_LRT_PRESSURE', 'I_LRT_SPECTRUM_VALUE', 'I_LRT_SURFACE_ON_OBJECT', 'I_LRT_THERMAL', 'I_LRT_THERMAL_IN_3_POINTS', 'I_LRT_UNIFORM', 'IsDefined', 'MemberwiseClone', 'Overloads', 'Parse', 'ReferenceEquals', 'ToObject', 'ToString', 'TryParse', '__call__', '__class__', '__delattr__', '__delitem__', '__dir__', '__doc__', '__eq__', '__format__', '__ge__', '__getattribute__', '__getitem__', '__gt__', '__hash__', '__init__', '__init_subclass__', '__iter__', '__le__', '__lt__', '__module__', '__ne__', '__new__', '__overloads__', '__reduce__', '__reduce_ex__', '__repr__', '__setattr__', '__setitem__', '__sizeof__', '__str__', '__subclasshook__', 'value__']\n",
      "7\n",
      "7\n",
      "I_LRT_BAR_DEAD :  7\n",
      "I_LRT_BAR_DILATATION :  2\n",
      "I_LRT_BAR_FORCE_CONCENTRATED :  3\n",
      "I_LRT_BAR_FORCE_CONCENTRATED_MASS :  33\n",
      "I_LRT_BAR_MOMENT_DISTRIBUTED :  4\n",
      "I_LRT_BAR_THERMAL :  8\n",
      "I_LRT_BAR_TRAPEZOIDALE :  6\n",
      "I_LRT_BAR_TRAPEZOIDALE_MASS :  36\n",
      "I_LRT_BAR_UNIFORM :  5\n",
      "I_LRT_BAR_UNIFORM_MASS :  35\n",
      "I_LRT_DEAD :  7\n",
      "I_LRT_IN_3_POINTS :  22\n",
      "I_LRT_IN_CONTOUR :  28\n",
      "I_LRT_LINEAR :  21\n",
      "I_LRT_LINEAR_3D :  19\n",
      "I_LRT_LINEAR_ON_EDGES :  69\n",
      "I_LRT_MASS_ACTIVATION :  39\n",
      "I_LRT_MOBILE_DISTRIBUTED :  55\n",
      "I_LRT_MOBILE_POINT_FORCE :  53\n",
      "I_LRT_NODE_ACCELERATION :  11\n",
      "I_LRT_NODE_AUXILIARY :  20\n",
      "I_LRT_NODE_DISPLACEMENT :  1\n",
      "I_LRT_NODE_FORCE :  0\n",
      "I_LRT_NODE_FORCE_IN_POINT :  23\n",
      "I_LRT_NODE_FORCE_MASS :  30\n",
      "I_LRT_NODE_VELOCITY :  10\n",
      "I_LRT_POINT_AUXILIARY :  23\n",
      "I_LRT_PRESSURE :  24\n",
      "I_LRT_SPECTRUM_VALUE :  40\n",
      "I_LRT_SURFACE_ON_OBJECT :  70\n",
      "I_LRT_THERMAL :  8\n",
      "I_LRT_THERMAL_IN_3_POINTS :  25\n",
      "I_LRT_UNIFORM :  26\n"
     ]
    }
   ],
   "source": [
    "print(dir(ar.RobotOM.IRobotLoadRecordType))\n",
    "print(ar.RobotOM.IRobotLoadRecordType.I_LRT_DEAD)\n",
    "print(ar.RobotOM.IRobotLoadRecordType.I_LRT_BAR_DEAD)\n",
    "\n",
    "for name in dir(ar.RobotOM.IRobotLoadRecordType):\n",
    "    if name.startswith('I_LRT'):\n",
    "        print(name, ': ' ,getattr(ar.RobotOM.IRobotLoadRecordType, name))"
   ]
  },
  {
   "cell_type": "code",
   "execution_count": 15,
   "metadata": {},
   "outputs": [
    {
     "name": "stdout",
     "output_type": "stream",
     "text": [
      "['CompareTo', 'Equals', 'Finalize', 'Format', 'GetHashCode', 'GetName', 'GetNames', 'GetType', 'GetTypeCode', 'GetUnderlyingType', 'GetValues', 'HasFlag', 'I_LRT_BAR_DEAD', 'I_LRT_BAR_DILATATION', 'I_LRT_BAR_FORCE_CONCENTRATED', 'I_LRT_BAR_FORCE_CONCENTRATED_MASS', 'I_LRT_BAR_MOMENT_DISTRIBUTED', 'I_LRT_BAR_THERMAL', 'I_LRT_BAR_TRAPEZOIDALE', 'I_LRT_BAR_TRAPEZOIDALE_MASS', 'I_LRT_BAR_UNIFORM', 'I_LRT_BAR_UNIFORM_MASS', 'I_LRT_DEAD', 'I_LRT_IN_3_POINTS', 'I_LRT_IN_CONTOUR', 'I_LRT_LINEAR', 'I_LRT_LINEAR_3D', 'I_LRT_LINEAR_ON_EDGES', 'I_LRT_MASS_ACTIVATION', 'I_LRT_MOBILE_DISTRIBUTED', 'I_LRT_MOBILE_POINT_FORCE', 'I_LRT_NODE_ACCELERATION', 'I_LRT_NODE_AUXILIARY', 'I_LRT_NODE_DISPLACEMENT', 'I_LRT_NODE_FORCE', 'I_LRT_NODE_FORCE_IN_POINT', 'I_LRT_NODE_FORCE_MASS', 'I_LRT_NODE_VELOCITY', 'I_LRT_POINT_AUXILIARY', 'I_LRT_PRESSURE', 'I_LRT_SPECTRUM_VALUE', 'I_LRT_SURFACE_ON_OBJECT', 'I_LRT_THERMAL', 'I_LRT_THERMAL_IN_3_POINTS', 'I_LRT_UNIFORM', 'IsDefined', 'MemberwiseClone', 'Overloads', 'Parse', 'ReferenceEquals', 'ToObject', 'ToString', 'TryParse', '__call__', '__class__', '__delattr__', '__delitem__', '__dir__', '__doc__', '__eq__', '__format__', '__ge__', '__getattribute__', '__getitem__', '__gt__', '__hash__', '__init__', '__init_subclass__', '__iter__', '__le__', '__lt__', '__module__', '__ne__', '__new__', '__overloads__', '__reduce__', '__reduce_ex__', '__repr__', '__setattr__', '__setitem__', '__sizeof__', '__str__', '__subclasshook__', 'value__']\n"
     ]
    },
    {
     "data": {
      "text/plain": [
       "CLR.CLR Metatype"
      ]
     },
     "execution_count": 15,
     "metadata": {},
     "output_type": "execute_result"
    }
   ],
   "source": [
    "print(dir(ar.RobotOM.IRobotLoadRecordType))\n",
    "\n",
    "type(ar.RobotOM.IRobotLoadRecordType)"
   ]
  },
  {
   "cell_type": "code",
   "execution_count": 16,
   "metadata": {},
   "outputs": [
    {
     "name": "stdout",
     "output_type": "stream",
     "text": [
      "<class 'int'>\n",
      "<class 'int'>\n"
     ]
    }
   ],
   "source": [
    "ar.RobotOM.IRobotLoadRecordType.I_LRT_BODY_FORCE = 89\n",
    "\n",
    "print(type(ar.RobotOM.IRobotLoadRecordType.I_LRT_DEAD))\n",
    "print(type(ar.RobotOM.IRobotLoadRecordType.I_LRT_BODY_FORCE))"
   ]
  },
  {
   "cell_type": "code",
   "execution_count": 17,
   "metadata": {},
   "outputs": [
    {
     "name": "stdout",
     "output_type": "stream",
     "text": [
      "89\n"
     ]
    },
    {
     "ename": "TypeError",
     "evalue": "No method matches given arguments for Create",
     "output_type": "error",
     "traceback": [
      "\u001b[1;31m---------------------------------------------------------------------------\u001b[0m",
      "\u001b[1;31mTypeError\u001b[0m                                 Traceback (most recent call last)",
      "\u001b[1;32m<ipython-input-17-4432aab2abb2>\u001b[0m in \u001b[0;36m<module>\u001b[1;34m\u001b[0m\n\u001b[0;32m      1\u001b[0m \u001b[0mprint\u001b[0m\u001b[1;33m(\u001b[0m\u001b[0mar\u001b[0m\u001b[1;33m.\u001b[0m\u001b[0mRobotOM\u001b[0m\u001b[1;33m.\u001b[0m\u001b[0mIRobotLoadRecordType\u001b[0m\u001b[1;33m.\u001b[0m\u001b[0mI_LRT_BODY_FORCE\u001b[0m\u001b[1;33m)\u001b[0m\u001b[1;33m\u001b[0m\u001b[1;33m\u001b[0m\u001b[0m\n\u001b[0;32m      2\u001b[0m \u001b[0mrec\u001b[0m \u001b[1;33m=\u001b[0m \u001b[0mar\u001b[0m\u001b[1;33m.\u001b[0m\u001b[0mRobotOM\u001b[0m\u001b[1;33m.\u001b[0m\u001b[0mIRobotLoadRecord\u001b[0m\u001b[1;33m(\u001b[0m\u001b[0mcase_1\u001b[0m\u001b[1;33m.\u001b[0m\u001b[0mRecords\u001b[0m\u001b[1;33m.\u001b[0m\u001b[0mCreate\u001b[0m\u001b[1;33m(\u001b[0m\u001b[0mar\u001b[0m\u001b[1;33m.\u001b[0m\u001b[0mRobotOM\u001b[0m\u001b[1;33m.\u001b[0m\u001b[0mIRobotLoadRecordType\u001b[0m\u001b[1;33m.\u001b[0m\u001b[0mI_LRT_DEAD\u001b[0m\u001b[1;33m)\u001b[0m\u001b[1;33m)\u001b[0m\u001b[1;33m\u001b[0m\u001b[1;33m\u001b[0m\u001b[0m\n\u001b[1;32m----> 3\u001b[1;33m \u001b[0mrec\u001b[0m \u001b[1;33m=\u001b[0m \u001b[0mar\u001b[0m\u001b[1;33m.\u001b[0m\u001b[0mRobotOM\u001b[0m\u001b[1;33m.\u001b[0m\u001b[0mIRobotLoadRecord\u001b[0m\u001b[1;33m(\u001b[0m\u001b[0mcase_1\u001b[0m\u001b[1;33m.\u001b[0m\u001b[0mRecords\u001b[0m\u001b[1;33m.\u001b[0m\u001b[0mCreate\u001b[0m\u001b[1;33m(\u001b[0m\u001b[0mar\u001b[0m\u001b[1;33m.\u001b[0m\u001b[0mRobotOM\u001b[0m\u001b[1;33m.\u001b[0m\u001b[0mIRobotLoadRecordType\u001b[0m\u001b[1;33m.\u001b[0m\u001b[0mI_LRT_BODY_FORCE\u001b[0m\u001b[1;33m)\u001b[0m\u001b[1;33m)\u001b[0m\u001b[1;33m\u001b[0m\u001b[1;33m\u001b[0m\u001b[0m\n\u001b[0m\u001b[0;32m      4\u001b[0m \u001b[0mprint\u001b[0m\u001b[1;33m(\u001b[0m\u001b[0mdir\u001b[0m\u001b[1;33m(\u001b[0m\u001b[0mrec\u001b[0m\u001b[1;33m)\u001b[0m\u001b[1;33m)\u001b[0m\u001b[1;33m\u001b[0m\u001b[1;33m\u001b[0m\u001b[0m\n",
      "\u001b[1;31mTypeError\u001b[0m: No method matches given arguments for Create"
     ]
    }
   ],
   "source": [
    "print(ar.RobotOM.IRobotLoadRecordType.I_LRT_BODY_FORCE)\n",
    "rec = ar.RobotOM.IRobotLoadRecord(case_1.Records.Create(ar.RobotOM.IRobotLoadRecordType.I_LRT_DEAD))\n",
    "rec = ar.RobotOM.IRobotLoadRecord(case_1.Records.Create(ar.RobotOM.IRobotLoadRecordType.I_LRT_BODY_FORCE))\n",
    "print(dir(rec))"
   ]
  },
  {
   "cell_type": "code",
   "execution_count": 22,
   "metadata": {},
   "outputs": [
    {
     "name": "stdout",
     "output_type": "stream",
     "text": [
      "['Create', 'CreateExt', 'CreateObjRef', 'Equals', 'Finalize', 'GetHashCode', 'GetLifetimeService', 'GetType', 'InitializeLifetimeService', 'MemberwiseClone', 'Overloads', 'ReferenceEquals', 'ToString', '__call__', '__class__', '__delattr__', '__delitem__', '__dir__', '__doc__', '__eq__', '__format__', '__ge__', '__getattribute__', '__getitem__', '__gt__', '__hash__', '__init__', '__init_subclass__', '__iter__', '__le__', '__lt__', '__module__', '__ne__', '__new__', '__overloads__', '__reduce__', '__reduce_ex__', '__repr__', '__setattr__', '__setitem__', '__sizeof__', '__str__', '__subclasshook__']\n"
     ]
    },
    {
     "ename": "TypeError",
     "evalue": "No method matches given arguments for IsDefined",
     "output_type": "error",
     "traceback": [
      "\u001b[1;31m---------------------------------------------------------------------------\u001b[0m",
      "\u001b[1;31mTypeError\u001b[0m                                 Traceback (most recent call last)",
      "\u001b[1;32m<ipython-input-22-27fc5151881e>\u001b[0m in \u001b[0;36m<module>\u001b[1;34m\u001b[0m\n\u001b[0;32m      1\u001b[0m \u001b[0mprint\u001b[0m\u001b[1;33m(\u001b[0m\u001b[0mdir\u001b[0m\u001b[1;33m(\u001b[0m\u001b[0mrb\u001b[0m\u001b[1;33m.\u001b[0m\u001b[0mCmpntFactory\u001b[0m\u001b[1;33m)\u001b[0m\u001b[1;33m)\u001b[0m\u001b[1;33m\u001b[0m\u001b[1;33m\u001b[0m\u001b[0m\n\u001b[1;32m----> 2\u001b[1;33m \u001b[0mrec\u001b[0m \u001b[1;33m=\u001b[0m \u001b[0mar\u001b[0m\u001b[1;33m.\u001b[0m\u001b[0mRobotOM\u001b[0m\u001b[1;33m.\u001b[0m\u001b[0mIRobotLoadRecordType\u001b[0m\u001b[1;33m.\u001b[0m\u001b[0mIsDefined\u001b[0m\u001b[1;33m(\u001b[0m\u001b[1;33m)\u001b[0m\u001b[1;33m\u001b[0m\u001b[1;33m\u001b[0m\u001b[0m\n\u001b[0m",
      "\u001b[1;31mTypeError\u001b[0m: No method matches given arguments for IsDefined"
     ]
    }
   ],
   "source": [
    "print(dir(rb.CmpntFactory))\n",
    "rec = ar.RobotOM.IRobotLoadRecordType.IsDefined()"
   ]
  },
  {
   "cell_type": "code",
   "execution_count": null,
   "metadata": {},
   "outputs": [],
   "source": [
    "print([n for n in dir(ar.RobotOM) if \"Record\" in n])"
   ]
  }
 ],
 "metadata": {
  "kernelspec": {
   "display_name": "Python 3",
   "language": "python",
   "name": "python3"
  },
  "language_info": {
   "codemirror_mode": {
    "name": "ipython",
    "version": 3
   },
   "file_extension": ".py",
   "mimetype": "text/x-python",
   "name": "python",
   "nbconvert_exporter": "python",
   "pygments_lexer": "ipython3",
   "version": "3.7.7"
  }
 },
 "nbformat": 4,
 "nbformat_minor": 4
}
