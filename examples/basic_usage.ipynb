{
 "cells": [
  {
   "cell_type": "code",
   "execution_count": 1,
   "metadata": {},
   "outputs": [],
   "source": [
    "%load_ext autoreload"
   ]
  },
  {
   "cell_type": "code",
   "execution_count": 2,
   "metadata": {},
   "outputs": [],
   "source": [
    "%autoreload 2"
   ]
  },
  {
   "cell_type": "code",
   "execution_count": 3,
   "metadata": {},
   "outputs": [],
   "source": [
    "import sys\n",
    "sys.path.append('..')\n",
    "\n",
    "import autorobot as ar\n",
    "from autorobot.constants import (\n",
    "    RProjType,\n",
    ")"
   ]
  },
  {
   "cell_type": "code",
   "execution_count": 4,
   "metadata": {},
   "outputs": [],
   "source": [
    "rb = ar.initialize()"
   ]
  },
  {
   "cell_type": "code",
   "execution_count": 5,
   "metadata": {},
   "outputs": [
    {
     "name": "stdout",
     "output_type": "stream",
     "text": [
      "{'BUILDING': <RProjType.BUILDING: 19>, 'FRAME_2D': <RProjType.FRAME_2D: 1>, 'FRAME_3D': <RProjType.FRAME_3D: 4>, 'SHELL': <RProjType.SHELL: 7>, 'TRUSS_2D': <RProjType.TRUSS_2D: 2>, 'TRUSS_3D': <RProjType.TRUSS_3D: 5>, 'PERM': <RCaseNature.PERM: 0>, 'IMPOSED': <RCaseNature.IMPOSED: 1>, 'WIND': <RCaseNature.WIND: 2>, 'SNOW': <RCaseNature.SNOW: 3>, 'ACC': <RCaseNature.ACC: 5>, 'SLS': <RCombType.SLS: 1>, 'ULS': <RCombType.ULS: 0>, 'LINEAR': <RAnalysisType.LINEAR: 1>, 'NON_LIN': <RAnalysisType.NON_LIN: 2>, 'COMB_LINEAR': <RAnalysisType.COMB_LINEAR: 0>, 'COMB_NON_LIN': <RAnalysisType.COMB_NON_LIN: -1>, <RCaseNature.PERM: 0>: 0, <RCaseNature.IMPOSED: 1>: 1, <RCaseNature.WIND: 2>: 2, <RCaseNature.SNOW: 3>: 3, <RCaseNature.ACC: 5>: 5, <RProjType.BUILDING: 19>: 19, <RProjType.FRAME_3D: 4>: 4, <RProjType.SHELL: 7>: 7, <RAnalysisType.COMB_NON_LIN: -1>: -1, 'seashell': <RProjType.SHELL: 7>}\n"
     ]
    }
   ],
   "source": [
    "from autorobot.synonyms import synonyms\n",
    "synonyms.update({'seashell': ar.RProjType.SHELL})\n",
    "\n",
    "print(ar.app.synonyms)"
   ]
  },
  {
   "cell_type": "code",
   "execution_count": 6,
   "metadata": {},
   "outputs": [],
   "source": [
    "rb.new('seashell')"
   ]
  },
  {
   "cell_type": "code",
   "execution_count": 7,
   "metadata": {},
   "outputs": [
    {
     "name": "stdout",
     "output_type": "stream",
     "text": [
      "['_IRConcrSlabRequiredReinfEngineEvents_ProgressNotifyEventHandler']\n"
     ]
    }
   ],
   "source": [
    "print(list(n for n in dir(ar.RobotOM) if len(n) == max(len(s) for s in dir(ar.RobotOM))))"
   ]
  },
  {
   "cell_type": "code",
   "execution_count": 8,
   "metadata": {},
   "outputs": [],
   "source": [
    "ar.create_section('50x50 sq', 50., 50., shape='rect')"
   ]
  },
  {
   "cell_type": "code",
   "execution_count": 9,
   "metadata": {},
   "outputs": [],
   "source": [
    "sec = ar.RobotOM.IRobotLabel(rb.structure.Labels.Get(ar.RobotOM.IRobotLabelType.I_LT_BAR_SECTION, '50x50 sq'))\n",
    "data = ar.RobotOM.IRobotBarSectionData(sec.Data)"
   ]
  },
  {
   "cell_type": "code",
   "execution_count": 10,
   "metadata": {},
   "outputs": [
    {
     "name": "stdout",
     "output_type": "stream",
     "text": [
      "['AliasCount', 'CalcNonstdGeometry', 'Concrete', 'CreateNonstd', 'DrawSymbol', 'ElasticParams', 'FindAlias', 'FindNonstd', 'GetAlias', 'GetAliasEx', 'GetNonstd', 'GetValue', 'IsConcrete', 'IsJoist', 'IsSpecial', 'LoadFromDBase', 'LoadFromDBase2', 'MaterialName', 'Members', 'Name', 'NonstdCount', 'RemoveNonstd', 'SetValue', 'ShapeType', 'Special', 'Type', '__class__', '__delattr__', '__dir__', '__doc__', '__eq__', '__format__', '__ge__', '__getattribute__', '__gt__', '__hash__', '__init__', '__init_subclass__', '__iter__', '__le__', '__lt__', '__module__', '__ne__', '__new__', '__reduce__', '__reduce_ex__', '__repr__', '__setattr__', '__sizeof__', '__str__', '__subclasshook__', 'get_AliasCount', 'get_Concrete', 'get_ElasticParams', 'get_IsConcrete', 'get_IsJoist', 'get_IsSpecial', 'get_MaterialName', 'get_Members', 'get_Name', 'get_NonstdCount', 'get_ShapeType', 'get_Special', 'get_Type', 'set_MaterialName', 'set_Name', 'set_ShapeType', 'set_Type']\n",
      "0.001666666666666667\n",
      "['CompareTo', 'Equals', 'Finalize', 'Format', 'GetHashCode', 'GetName', 'GetNames', 'GetType', 'GetTypeCode', 'GetUnderlyingType', 'GetValues', 'HasFlag', 'I_BSDV_ANGLE1', 'I_BSDV_ANGLE2', 'I_BSDV_AX', 'I_BSDV_AY', 'I_BSDV_AZ', 'I_BSDV_BF', 'I_BSDV_BF2', 'I_BSDV_D', 'I_BSDV_DIM1', 'I_BSDV_DIM2', 'I_BSDV_DIM3', 'I_BSDV_GAMMA', 'I_BSDV_IOMEGA', 'I_BSDV_IX', 'I_BSDV_IY', 'I_BSDV_IZ', 'I_BSDV_P1_LENGTH', 'I_BSDV_P1_THICKNESS', 'I_BSDV_P2_LENGTH', 'I_BSDV_P2_THICKNESS', 'I_BSDV_P3_LENGTH', 'I_BSDV_P3_THICKNESS', 'I_BSDV_P4_LENGTH', 'I_BSDV_P4_THICKNESS', 'I_BSDV_RA', 'I_BSDV_RI', 'I_BSDV_S', 'I_BSDV_SURFACE', 'I_BSDV_TF', 'I_BSDV_TF2', 'I_BSDV_TW', 'I_BSDV_VPY', 'I_BSDV_VPZ', 'I_BSDV_VY', 'I_BSDV_VZ', 'I_BSDV_WEIGHT', 'I_BSDV_WX', 'I_BSDV_WY', 'I_BSDV_WZ', 'I_BSDV_ZY', 'I_BSDV_ZZ', 'IsDefined', 'MemberwiseClone', 'Overloads', 'Parse', 'ReferenceEquals', 'ToObject', 'ToString', 'TryParse', '__call__', '__class__', '__delattr__', '__delitem__', '__dir__', '__doc__', '__eq__', '__format__', '__ge__', '__getattribute__', '__getitem__', '__gt__', '__hash__', '__init__', '__init_subclass__', '__iter__', '__le__', '__lt__', '__module__', '__ne__', '__new__', '__overloads__', '__reduce__', '__reduce_ex__', '__repr__', '__setattr__', '__setitem__', '__sizeof__', '__str__', '__subclasshook__', 'value__']\n",
      "I_BSDV_ANGLE1: 0.0\n",
      "I_BSDV_ANGLE2: 0.0\n",
      "I_BSDV_AX: 0.0025000000000000005\n",
      "I_BSDV_AY: 0.0020833333333333337\n",
      "I_BSDV_AZ: 0.0020833333333333337\n",
      "I_BSDV_BF: 0.05\n",
      "I_BSDV_BF2: 0.0\n",
      "I_BSDV_D: 0.05\n",
      "I_BSDV_DIM1: 0.0\n",
      "I_BSDV_DIM2: 0.0\n",
      "I_BSDV_DIM3: 0.0\n",
      "I_BSDV_GAMMA: 0.0\n",
      "I_BSDV_IOMEGA: 0.0\n",
      "I_BSDV_IX: 8.786442984652465e-07\n",
      "I_BSDV_IY: 5.208333333333335e-07\n",
      "I_BSDV_IZ: 5.208333333333335e-07\n",
      "I_BSDV_P1_LENGTH: 0.0\n",
      "I_BSDV_P1_THICKNESS: 0.0\n",
      "I_BSDV_P2_LENGTH: 0.0\n",
      "I_BSDV_P2_THICKNESS: 0.0\n",
      "I_BSDV_P3_LENGTH: 0.0\n",
      "I_BSDV_P3_THICKNESS: 0.0\n",
      "I_BSDV_P4_LENGTH: 0.0\n",
      "I_BSDV_P4_THICKNESS: 0.0\n",
      "I_BSDV_RA: 0.0\n",
      "I_BSDV_RI: 0.0\n",
      "I_BSDV_S: 0.0\n",
      "I_BSDV_SURFACE: 0.2\n",
      "I_BSDV_TF: 0.0\n",
      "I_BSDV_TF2: 0.0\n",
      "I_BSDV_TW: 0.0\n",
      "I_BSDV_VPY: 0.025\n",
      "I_BSDV_VPZ: 0.025\n",
      "I_BSDV_VY: 0.025\n",
      "I_BSDV_VZ: 0.025\n",
      "I_BSDV_WEIGHT: 0.0\n",
      "I_BSDV_WX: 2.602112596918892e-05\n",
      "I_BSDV_WY: 0.001666666666666667\n",
      "I_BSDV_WZ: 0.001666666666666667\n",
      "I_BSDV_ZY: 0.0\n",
      "I_BSDV_ZZ: 0.0\n"
     ]
    }
   ],
   "source": [
    "print(dir(data))\n",
    "print(data.GetValue(ar.RobotOM.IRobotBarSectionDataValue.I_BSDV_WY))\n",
    "print(dir(ar.RobotOM.IRobotBarSectionDataValue))\n",
    "\n",
    "for k in dir(ar.RobotOM.IRobotBarSectionDataValue):\n",
    "    if k.startswith('I_BSDV'):\n",
    "        print(f'{k}: {data.GetValue(getattr(ar.RobotOM.IRobotBarSectionDataValue, k))}')"
   ]
  }
 ],
 "metadata": {
  "kernelspec": {
   "display_name": "Python 3",
   "language": "python",
   "name": "python3"
  },
  "language_info": {
   "codemirror_mode": {
    "name": "ipython",
    "version": 3
   },
   "file_extension": ".py",
   "mimetype": "text/x-python",
   "name": "python",
   "nbconvert_exporter": "python",
   "pygments_lexer": "ipython3",
   "version": "3.7.7"
  }
 },
 "nbformat": 4,
 "nbformat_minor": 4
}
