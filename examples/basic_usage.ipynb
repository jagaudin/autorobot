{
 "cells": [
  {
   "cell_type": "code",
   "execution_count": 1,
   "metadata": {},
   "outputs": [],
   "source": [
    "%load_ext autoreload"
   ]
  },
  {
   "cell_type": "code",
   "execution_count": 2,
   "metadata": {},
   "outputs": [],
   "source": [
    "%autoreload 2"
   ]
  },
  {
   "cell_type": "code",
   "execution_count": 5,
   "metadata": {},
   "outputs": [
    {
     "name": "stdout",
     "output_type": "stream",
     "text": [
      "0 ('I_CAT_COMB', <RobotOM.IRobotCaseAnalizeType object at 0x000001E0B0B786C0>)\n",
      "1 ('I_CAT_STATIC_LINEAR', <RobotOM.IRobotCaseAnalizeType object at 0x000001E0B0B78700>)\n",
      "2 ('I_CAT_STATIC_NONLINEAR', <RobotOM.IRobotCaseAnalizeType object at 0x000001E0FE94AA80>)\n",
      "3 ('I_CAT_STATIC_INCREMENTAL', <RobotOM.IRobotCaseAnalizeType object at 0x000001E0FE432200>)\n",
      "4 ('I_CAT_STATIC_BUCKLING', <RobotOM.IRobotCaseAnalizeType object at 0x000001E0B0B78740>)\n",
      "5 ('I_CAT_STATIC_FLAMBEMENT', <RobotOM.IRobotCaseAnalizeType object at 0x000001E0B0B78780>)\n",
      "6 ('I_CAT_STATIC_LINEAR_AUXILIARY', <RobotOM.IRobotCaseAnalizeType object at 0x000001E0B0B787C0>)\n",
      "7 ('I_CAT_STATIC_NONLINEAR_INCREMENTAL', <RobotOM.IRobotCaseAnalizeType object at 0x000001E0B0B78800>)\n",
      "8 ('I_CAT_STATIC_NONLINEAR_FLAMBEMENT', <RobotOM.IRobotCaseAnalizeType object at 0x000001E0B0B78840>)\n",
      "9 ('I_CAT_STATIC_NONLINEAR_BUCKLING', <RobotOM.IRobotCaseAnalizeType object at 0x000001E0B0B78880>)\n",
      "10 ('I_CAT_STATIC_NONLINEAR_MODAL', <RobotOM.IRobotCaseAnalizeType object at 0x000001E0B0B788C0>)\n",
      "11 ('I_CAT_DYNAMIC_NONLINEAR_MODAL_WITH_STATIC_FORCE', <RobotOM.IRobotCaseAnalizeType object at 0x000001E0B0B78900>)\n",
      "12 ('I_CAT_STATIC_ELF_SEISMIC', <RobotOM.IRobotCaseAnalizeType object at 0x000001E0B0B78940>)\n",
      "13 ('I_CAT_DYNAMIC_MODAL', <RobotOM.IRobotCaseAnalizeType object at 0x000001E0B0B78980>)\n",
      "14 ('I_CAT_DYNAMIC_SPECTRAL', <RobotOM.IRobotCaseAnalizeType object at 0x000001E0B0B789C0>)\n",
      "15 ('I_CAT_DYNAMIC_SEISMIC', <RobotOM.IRobotCaseAnalizeType object at 0x000001E0B0B78A00>)\n",
      "16 ('I_CAT_DYNAMIC_HARMONIC', <RobotOM.IRobotCaseAnalizeType object at 0x000001E0FE40D380>)\n",
      "17 ('I_CAT_DYNAMIC_FRF', <RobotOM.IRobotCaseAnalizeType object at 0x000001E0B0B78A40>)\n",
      "18 ('I_CAT_DYNAMIC_FOOTFALL', <RobotOM.IRobotCaseAnalizeType object at 0x000001E0B0B78A80>)\n",
      "19 ('I_CAT_TEMPORAR', <RobotOM.IRobotCaseAnalizeType object at 0x000001E0B0B78B00>)\n",
      "20 ('I_CAT_TIME_HISTORY', <RobotOM.IRobotCaseAnalizeType object at 0x000001E0B0B78B40>)\n",
      "21 ('I_CAT_PUSH_OVER', <RobotOM.IRobotCaseAnalizeType object at 0x000001E0B0B78BC0>)\n",
      "22 ('I_CAT_MOBILE_MAIN', <RobotOM.IRobotCaseAnalizeType object at 0x000001E0B0B78C00>)\n",
      "23 ('I_CAT_MOBILE_DERIVED', <RobotOM.IRobotCaseAnalizeType object at 0x000001E0B0B78C40>)\n",
      "24 ('I_CAT_NULL', <RobotOM.IRobotCaseAnalizeType object at 0x000001E0B0B78CC0>)\n",
      "25 ('I_CAT_COMB_CODE', <RobotOM.IRobotCaseAnalizeType object at 0x000001E0B0B78D40>)\n",
      "26 ('I_CAT_COMB_NONLINEAR_INCREMENTAL', <RobotOM.IRobotCaseAnalizeType object at 0x000001E0B0B78D80>)\n",
      "27 ('I_CAT_COMB_BUCKLING', <RobotOM.IRobotCaseAnalizeType object at 0x000001E0FE978A00>)\n",
      "28 ('I_CAT_COMB_NONLINEAR_BUCKLING', <RobotOM.IRobotCaseAnalizeType object at 0x000001E0B0B78DC0>)\n",
      "29 ('I_CAT_COMB_INCREMENTAL', <RobotOM.IRobotCaseAnalizeType object at 0x000001E0B0B78E00>)\n",
      "30 ('I_CAT_COMB_NONLINEAR', <RobotOM.IRobotCaseAnalizeType object at 0x000001E0B0B78E40>)\n",
      "31 ('LINEAR', <RobotOM.IRobotCaseAnalizeType object at 0x000001E0B0B78700>)\n",
      "32 ('NON_LIN', <RobotOM.IRobotCaseAnalizeType object at 0x000001E0FE94AA80>)\n",
      "33 ('COMB_LINEAR', <RobotOM.IRobotCaseAnalizeType object at 0x000001E0B0B786C0>)\n",
      "34 ('COMB_NON_LIN', <RobotOM.IRobotCaseAnalizeType object at 0x000001E0B0B78E40>)\n",
      "27\n",
      "27\n"
     ]
    }
   ],
   "source": [
    "import sys\n",
    "sys.path.append('..')\n",
    "\n",
    "\n",
    "import autorobot as ar\n",
    "\n",
    "for i, t in enumerate(ar.RAnalysisType.items()):\n",
    "    print(i, t)\n",
    "    \n",
    "print(len(list(ar.RAnalysisType)))\n",
    "\n",
    "print(len(set(int(el) for el in ar.RAnalysisType.values())))"
   ]
  },
  {
   "cell_type": "code",
   "execution_count": 4,
   "metadata": {},
   "outputs": [
    {
     "name": "stdout",
     "output_type": "stream",
     "text": [
      "3\n",
      "['__abstractmethods__', '__class__', '__delattr__', '__dict__', '__dir__', '__doc__', '__eq__', '__format__', '__ge__', '__getattr__', '__getattribute__', '__gt__', '__hash__', '__init__', '__init_subclass__', '__le__', '__lt__', '__module__', '__ne__', '__new__', '__reduce__', '__reduce_ex__', '__repr__', '__setattr__', '__sizeof__', '__slots__', '__str__', '__subclasshook__', '__weakref__', '_abc_impl', '_inst', '_otype', 'add_bar_pl', 'add_bar_udl', 'add_self_weight', 'delete', 'get', 'get_record_value', 'load_type_values', 'loads', 'set_record_value']\n",
      "[{'Type': <RobotOM.IRobotLoadRecordType object at 0x0000023CF78B3500>, 'Description': 'sw', 'X': 0.0, 'Y': 0.0, 'Z': -1.0, 'COEFF': 1.0, 'ENTIRE_STRUCT': 1.0}, {'Type': <RobotOM.IRobotLoadRecordType object at 0x0000023CE13BC480>, 'Description': 'udl', 'FX': 732.8444518459831, 'FY': 0.0, 'FZ': 0.0, 'ALPHA': 0.0, 'BETA': 0.0, 'GAMMA': 0.0, 'IS_LOC': 0.0, 'IS_PROJ': 0.0, 'IS_REL': 0.0, 'OFFSET_Y': 0.0, 'OFFSET_Z': 0.0}, {'Type': <RobotOM.IRobotLoadRecordType object at 0x0000023CE13BCC00>, 'Description': 'pl', 'X': 0.5, 'FX': 1000.0, 'FY': 0.0, 'FZ': 0.0, 'CX': 0.0, 'CY': 0.0, 'CZ': 0.0, 'ALPHA': 0.0, 'BETA': 0.0, 'GAMMA': 0.0, 'GEN_NODE': 1.0, 'IS_LOC': 0.0, 'IS_REL': 1.0, 'OFFSET_Y': 0.0, 'OFFSET_Z': 0.0}]\n"
     ]
    }
   ],
   "source": [
    "rb = ar.initialize()\n",
    "rb.new('SHELL')\n",
    "\n",
    "from numpy.random import random\n",
    "from RobotOM import IRobotViewMngr\n",
    "\n",
    "n1 = rb.nodes.create(*random((3,)))\n",
    "n2 = rb.nodes.create(*random((3,)))\n",
    "bar = rb.bars.create(n1, n2)\n",
    "case = rb.cases.create_case(1, 'case 1', 'PERM', 'LINEAR')\n",
    "\n",
    "case.add_self_weight(desc='sw')\n",
    "case.add_bar_udl(bar.Number, fx=random(), desc='udl')\n",
    "case.add_bar_pl(bar.Number, x=.5, fx=1, is_relative=True, desc='pl')\n",
    "\n",
    "print(case.Records.Count)\n",
    "print(dir(case))\n",
    "print(case.loads)"
   ]
  },
  {
   "cell_type": "code",
   "execution_count": 5,
   "metadata": {},
   "outputs": [
    {
     "name": "stdout",
     "output_type": "stream",
     "text": [
      "['__abstractmethods__', '__class__', '__delattr__', '__dict__', '__dir__', '__doc__', '__eq__', '__format__', '__ge__', '__getattr__', '__getattribute__', '__gt__', '__hash__', '__init__', '__init_subclass__', '__le__', '__lt__', '__module__', '__ne__', '__new__', '__reduce__', '__reduce_ex__', '__repr__', '__setattr__', '__sizeof__', '__slots__', '__str__', '__subclasshook__', '__weakref__', '_abc_impl', '_inst', '_otype', 'add_bar_pl', 'add_bar_udl', 'add_self_weight', 'delete', 'get', 'get_record_value', 'load_type_values', 'loads', 'set_record_value']\n",
      "[{'Type': <RobotOM.IRobotLoadRecordType object at 0x0000023CF775CAC0>, 'Description': 'sw', 'X': 0.0, 'Y': 0.0, 'Z': -1.0, 'COEFF': 1.0, 'ENTIRE_STRUCT': 1.0}, {'Type': <RobotOM.IRobotLoadRecordType object at 0x0000023CF7AF6180>, 'Description': 'udl', 'FX': 732.8444518459831, 'FY': 0.0, 'FZ': 0.0, 'ALPHA': 0.0, 'BETA': 0.0, 'GAMMA': 0.0, 'IS_LOC': 0.0, 'IS_PROJ': 0.0, 'IS_REL': 0.0, 'OFFSET_Y': 0.0, 'OFFSET_Z': 0.0}, {'Type': <RobotOM.IRobotLoadRecordType object at 0x0000023CF78B3500>, 'Description': 'pl', 'X': 0.5, 'FX': 1000.0, 'FY': 0.0, 'FZ': 0.0, 'CX': 0.0, 'CY': 0.0, 'CZ': 0.0, 'ALPHA': 0.0, 'BETA': 0.0, 'GAMMA': 0.0, 'GEN_NODE': 1.0, 'IS_LOC': 0.0, 'IS_REL': 1.0, 'OFFSET_Y': 0.0, 'OFFSET_Z': 0.0}]\n"
     ]
    }
   ],
   "source": [
    "case = rb.cases.get(1)\n",
    "print(dir(case))\n",
    "print(case.loads)"
   ]
  },
  {
   "cell_type": "code",
   "execution_count": 6,
   "metadata": {},
   "outputs": [],
   "source": [
    "rb.new('SHELL')"
   ]
  },
  {
   "cell_type": "code",
   "execution_count": 7,
   "metadata": {},
   "outputs": [],
   "source": [
    "n1 = rb.nodes.create(0,0,0)\n",
    "n2 = rb.nodes.create(10,0,0)"
   ]
  },
  {
   "cell_type": "code",
   "execution_count": 8,
   "metadata": {},
   "outputs": [],
   "source": [
    "bar = rb.bars.create(1, 2)"
   ]
  },
  {
   "cell_type": "code",
   "execution_count": 9,
   "metadata": {},
   "outputs": [
    {
     "name": "stdout",
     "output_type": "stream",
     "text": [
      "0\n",
      "None\n"
     ]
    }
   ],
   "source": [
    "print(bar.HasLabel(ar.constants.RLabelType.BAR_SECT))\n",
    "label = bar.section\n",
    "print(label)"
   ]
  },
  {
   "cell_type": "code",
   "execution_count": 10,
   "metadata": {},
   "outputs": [
    {
     "name": "stdout",
     "output_type": "stream",
     "text": [
      "['AISC', 'AISI', 'ARBU', 'ARCLR', 'AUS', 'BSK', 'BSK06', 'BORGA', 'CISC', 'CISC9', 'CHINA', 'CHIN9', 'CORUS', 'DIN', 'DREW', 'ESR', 'EURO', 'EC5', 'GOST', 'GOSTL', 'GOSTT', 'GSTTL', 'INDIA', 'IS808', 'IS127', 'JAPAN', 'KERTO', 'KOREA', 'LIN', 'NA', 'NDS', 'NS34', 'NZL', 'OTUA', 'PRU', 'RARB', 'RCAT', 'RESIN', 'ROMAN', 'RPLN', 'RPLN7', 'RPOL', 'RTRKK', 'SADEF', 'SAISC', 'SIMPL', 'SIN', 'SSMA', 'STAL', 'STO', 'STOL', 'SUOMI', 'THAI', 'TSNL', 'TU', 'UKST', 'UNI', 'WOOD', 'WOODM', 'ZA', 'RUSER', 'SJI', 'VLCFT']\n"
     ]
    }
   ],
   "source": [
    "print(rb.sections.db_list())\n",
    "\n",
    "rb.sections.load('UC 305x305x97')\n",
    "\n",
    "bar.section = 'UC 305x305x97'\n",
    "bar.material = 'S355'"
   ]
  },
  {
   "cell_type": "code",
   "execution_count": 11,
   "metadata": {},
   "outputs": [
    {
     "data": {
      "text/plain": [
       "<autorobot.cases.ExtendedSimpleCase at 0x23caf410f10>"
      ]
     },
     "execution_count": 11,
     "metadata": {},
     "output_type": "execute_result"
    }
   ],
   "source": [
    "from autorobot.constants import RLoadType\n",
    "from RobotOM import IRobotLoadRecordType\n",
    "\n",
    "\n",
    "RLoadType.update({'I_LRT_BODY_FORCE': 89})\n",
    "\n",
    "rb.cases.create_case(1, 'Body force', 'PERM', 'LINEAR')"
   ]
  },
  {
   "cell_type": "code",
   "execution_count": 12,
   "metadata": {},
   "outputs": [],
   "source": [
    "from RobotOM import IRobotLoadRecord\n",
    "\n"
   ]
  },
  {
   "cell_type": "code",
   "execution_count": 13,
   "metadata": {},
   "outputs": [
    {
     "ename": "COMException",
     "evalue": " (0x80004005): Error HRESULT E_FAIL has been returned from a call to a COM component.\r\n   at RobotOM.RobotLoadRecordMngrClass.Get(Int32 record_index)",
     "output_type": "error",
     "traceback": [
      "\u001b[1;31m---------------------------------------------------------------------------\u001b[0m",
      "\u001b[1;31mCOMException\u001b[0m                              Traceback (most recent call last)",
      "Cell \u001b[1;32mIn [13], line 2\u001b[0m\n\u001b[0;32m      1\u001b[0m case \u001b[38;5;241m=\u001b[39m rb\u001b[38;5;241m.\u001b[39mcases\u001b[38;5;241m.\u001b[39mget(\u001b[38;5;241m1\u001b[39m)\n\u001b[1;32m----> 2\u001b[0m rec \u001b[38;5;241m=\u001b[39m IRobotLoadRecord(\u001b[43mcase\u001b[49m\u001b[38;5;241;43m.\u001b[39;49m\u001b[43mRecords\u001b[49m\u001b[38;5;241;43m.\u001b[39;49m\u001b[43mGet\u001b[49m\u001b[43m(\u001b[49m\u001b[38;5;241;43m1\u001b[39;49m\u001b[43m)\u001b[49m)\n\u001b[0;32m      4\u001b[0m \u001b[38;5;28mprint\u001b[39m(\u001b[38;5;28mdir\u001b[39m(rec))\n\u001b[0;32m      5\u001b[0m \u001b[38;5;28;01mfor\u001b[39;00m i \u001b[38;5;129;01min\u001b[39;00m \u001b[38;5;28mrange\u001b[39m(\u001b[38;5;241m16\u001b[39m):\n",
      "\u001b[1;31mCOMException\u001b[0m:  (0x80004005): Error HRESULT E_FAIL has been returned from a call to a COM component.\r\n   at RobotOM.RobotLoadRecordMngrClass.Get(Int32 record_index)"
     ]
    }
   ],
   "source": [
    "case = rb.cases.get(1)\n",
    "rec = IRobotLoadRecord(case.Records.Get(1))\n",
    "\n",
    "print(dir(rec))\n",
    "for i in range(16):\n",
    "    print(rec.GetValue(i))\n",
    "print(rec.Type)\n",
    "rec.Description = 'Body Force'"
   ]
  },
  {
   "cell_type": "code",
   "execution_count": null,
   "metadata": {},
   "outputs": [],
   "source": [
    "obj_server = rb.Project.Structure.Objects"
   ]
  },
  {
   "cell_type": "code",
   "execution_count": null,
   "metadata": {},
   "outputs": [],
   "source": [
    "dir(n1.node)"
   ]
  },
  {
   "cell_type": "code",
   "execution_count": null,
   "metadata": {},
   "outputs": [],
   "source": [
    "n1.X = 5"
   ]
  },
  {
   "cell_type": "code",
   "execution_count": null,
   "metadata": {},
   "outputs": [],
   "source": [
    "dir(n1)"
   ]
  },
  {
   "cell_type": "code",
   "execution_count": null,
   "metadata": {},
   "outputs": [],
   "source": [
    "n1.Y = 3."
   ]
  },
  {
   "cell_type": "code",
   "execution_count": null,
   "metadata": {},
   "outputs": [],
   "source": [
    "n1.Number"
   ]
  }
 ],
 "metadata": {
  "kernelspec": {
   "display_name": "Python 3 (ipykernel)",
   "language": "python",
   "name": "python3"
  },
  "language_info": {
   "codemirror_mode": {
    "name": "ipython",
    "version": 3
   },
   "file_extension": ".py",
   "mimetype": "text/x-python",
   "name": "python",
   "nbconvert_exporter": "python",
   "pygments_lexer": "ipython3",
   "version": "3.10.4"
  }
 },
 "nbformat": 4,
 "nbformat_minor": 4
}
