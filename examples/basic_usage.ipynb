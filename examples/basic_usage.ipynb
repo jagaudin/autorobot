{
 "cells": [
  {
   "cell_type": "code",
   "execution_count": 1,
   "metadata": {},
   "outputs": [],
   "source": [
    "%load_ext autoreload"
   ]
  },
  {
   "cell_type": "code",
   "execution_count": 2,
   "metadata": {},
   "outputs": [],
   "source": [
    "%autoreload 2"
   ]
  },
  {
   "cell_type": "code",
   "execution_count": 3,
   "metadata": {},
   "outputs": [],
   "source": [
    "import sys\n",
    "sys.path.append('..')\n",
    "\n",
    "import autorobot as ar\n",
    "from autorobot.constants import (\n",
    "    RProjType,\n",
    ")"
   ]
  },
  {
   "cell_type": "code",
   "execution_count": 4,
   "metadata": {},
   "outputs": [],
   "source": [
    "rb = ar.initialize()"
   ]
  },
  {
   "cell_type": "code",
   "execution_count": 5,
   "metadata": {},
   "outputs": [
    {
     "name": "stdout",
     "output_type": "stream",
     "text": [
      "{'BUILDING': <RProjType.BUILDING: 19>, 'FRAME_2D': <RProjType.FRAME_2D: 1>, 'FRAME_3D': <RProjType.FRAME_3D: 4>, 'SHELL': <RProjType.SHELL: 7>, 'TRUSS_2D': <RProjType.TRUSS_2D: 2>, 'TRUSS_3D': <RProjType.TRUSS_3D: 5>, 'PERM': <RCaseNature.PERM: 0>, 'IMPOSED': <RCaseNature.IMPOSED: 1>, 'WIND': <RCaseNature.WIND: 2>, 'SNOW': <RCaseNature.SNOW: 3>, 'ACC': <RCaseNature.ACC: 5>, 'SLS': <RCombType.SLS: 1>, 'ULS': <RCombType.ULS: 0>, 'LINEAR': <RAnalysisType.LINEAR: 1>, 'NON_LIN': <RAnalysisType.NON_LIN: 2>, 'COMB_LINEAR': <RAnalysisType.COMB_LINEAR: 0>, 'COMB_NON_LIN': <RAnalysisType.COMB_NON_LIN: -1>, <RCaseNature.PERM: 0>: 0, <RCaseNature.IMPOSED: 1>: 1, <RCaseNature.WIND: 2>: 2, <RCaseNature.SNOW: 3>: 3, <RCaseNature.ACC: 5>: 5, <RProjType.BUILDING: 19>: 19, <RProjType.FRAME_3D: 4>: 4, <RProjType.SHELL: 7>: 7, <RAnalysisType.COMB_NON_LIN: -1>: -1, 'seashell': <RProjType.SHELL: 7>}\n"
     ]
    }
   ],
   "source": [
    "from autorobot.synonyms import synonyms\n",
    "synonyms.update({'seashell': ar.RProjType.SHELL})\n",
    "\n",
    "print(ar.app.synonyms)"
   ]
  },
  {
   "cell_type": "code",
   "execution_count": 6,
   "metadata": {},
   "outputs": [],
   "source": [
    "rb.new('seashell')"
   ]
  },
  {
   "cell_type": "code",
   "execution_count": 7,
   "metadata": {},
   "outputs": [
    {
     "name": "stdout",
     "output_type": "stream",
     "text": [
      "I_BSST_BOX: 91\n",
      "I_BSST_CAE: 1\n",
      "I_BSST_CAEP: 2\n",
      "I_BSST_CAI: 3\n",
      "I_BSST_CAIP: 4\n",
      "I_BSST_CCL: 45\n",
      "I_BSST_CIRC_FILLED: 44\n",
      "I_BSST_COLD_ANGL: 1006\n",
      "I_BSST_COLD_CE1: 1005\n",
      "I_BSST_COLD_C_PLUS: 1010\n",
      "I_BSST_COLD_L_LIPS: 1014\n",
      "I_BSST_COLD_OMEGA: 1007\n",
      "I_BSST_COLD_RIVE1: 1009\n",
      "I_BSST_COLD_SIGMA: 1012\n",
      "I_BSST_COLD_SIGMA1: 1001\n",
      "I_BSST_COLD_SIGMA2: 1002\n",
      "I_BSST_COLD_SIGMA_SL: 1011\n",
      "I_BSST_COLD_SO1: 1008\n",
      "I_BSST_COLD_U: 1004\n",
      "I_BSST_COLD_Z: 1013\n",
      "I_BSST_COLD_ZED1: 1003\n",
      "I_BSST_COLD_Z_ROT: 1015\n",
      "I_BSST_COMP_2C_BACK: 1102\n",
      "I_BSST_COMP_2C_BACK_WELD: 1202\n",
      "I_BSST_COMP_2C_FACE: 1101\n",
      "I_BSST_COMP_2C_FACE_WELD: 1201\n",
      "I_BSST_COMP_2I: 1103\n",
      "I_BSST_COMP_2I_WELD: 1203\n",
      "I_BSST_COMP_2LI: 1105\n",
      "I_BSST_COMP_2LI_WELD: 1205\n",
      "I_BSST_COMP_2L_CROSS: 1110\n",
      "I_BSST_COMP_2L_CROSS_WELD: 1210\n",
      "I_BSST_COMP_2L_FACE_LONG: 1112\n",
      "I_BSST_COMP_2L_FACE_LONG_WELD: 1212\n",
      "I_BSST_COMP_2L_FACE_SHORT: 1111\n",
      "I_BSST_COMP_2L_FACE_SHORT_WELD: 1211\n",
      "I_BSST_COMP_2L_LONG: 1109\n",
      "I_BSST_COMP_2L_LONG_WELD: 1209\n",
      "I_BSST_COMP_2L_SHORT: 1108\n",
      "I_BSST_COMP_2L_SHORT_WELD: 1208\n",
      "I_BSST_COMP_4L_BACK: 1107\n",
      "I_BSST_COMP_4L_BACK_WELD: 1207\n",
      "I_BSST_COMP_4L_FACE: 1106\n",
      "I_BSST_COMP_4L_FACE_WELD: 1206\n",
      "I_BSST_COMP_CI: 1104\n",
      "I_BSST_COMP_CI_BACK: 1113\n",
      "I_BSST_COMP_CI_BACK_WELD: 1213\n",
      "I_BSST_COMP_CI_WELD: 1204\n",
      "I_BSST_CONCR_BEAM: -1\n",
      "I_BSST_CONCR_BEAM_I: -4\n",
      "I_BSST_CONCR_BEAM_RECT: -3\n",
      "I_BSST_CONCR_BEAM_T: -2\n",
      "I_BSST_CONCR_COL_C: -103\n",
      "I_BSST_CONCR_COL_CH: -102\n",
      "I_BSST_CONCR_COL_CQ: -101\n",
      "I_BSST_CONCR_COL_L: -106\n",
      "I_BSST_CONCR_COL_P: -104\n",
      "I_BSST_CONCR_COL_R: -108\n",
      "I_BSST_CONCR_COL_T: -107\n",
      "I_BSST_CONCR_COL_Z: -105\n",
      "I_BSST_CUAP: 48\n",
      "I_BSST_CUSER: 97\n",
      "I_BSST_DCEC: 5\n",
      "I_BSST_DCED: 6\n",
      "I_BSST_DCEP: 7\n",
      "I_BSST_DCIG: 8\n",
      "I_BSST_DCIP: 9\n",
      "I_BSST_DRECT: 99\n",
      "I_BSST_FRTG: 41\n",
      "I_BSST_HEA: 10\n",
      "I_BSST_HEAA: 11\n",
      "I_BSST_HEB: 12\n",
      "I_BSST_HEC: 13\n",
      "I_BSST_HEM: 14\n",
      "I_BSST_HER: 15\n",
      "I_BSST_HHEA: 16\n",
      "I_BSST_HHEB: 17\n",
      "I_BSST_HHEM: 18\n",
      "I_BSST_IIPE: 19\n",
      "I_BSST_INSYM: 95\n",
      "I_BSST_IPE: 20\n",
      "I_BSST_IPEA: 21\n",
      "I_BSST_IPEO: 22\n",
      "I_BSST_IPER: 23\n",
      "I_BSST_IPEV: 24\n",
      "I_BSST_IPN: 25\n",
      "I_BSST_ISYM: 94\n",
      "I_BSST_JOIST_BG: 512\n",
      "I_BSST_JOIST_DLH: 503\n",
      "I_BSST_JOIST_G: 510\n",
      "I_BSST_JOIST_K: 500\n",
      "I_BSST_JOIST_KCS: 502\n",
      "I_BSST_JOIST_LH: 501\n",
      "I_BSST_JOIST_SLH: 504\n",
      "I_BSST_JOIST_VG: 511\n",
      "I_BSST_MHEA: 26\n",
      "I_BSST_MHEB: 27\n",
      "I_BSST_MHEM: 28\n",
      "I_BSST_MIPE: 29\n",
      "I_BSST_PRS: 30\n",
      "I_BSST_RECT: 92\n",
      "I_BSST_RECT_FILLED: 43\n",
      "I_BSST_SPEC_CASTELLATED_WEB_HEXAGONAL_OPENINGS: 50\n",
      "I_BSST_SPEC_CASTELLATED_WEB_HEXAGONAL_OPENINGS_SHIFTED: 52\n",
      "I_BSST_SPEC_CASTELLATED_WEB_ROUND_OPENINGS: 51\n",
      "I_BSST_SPEC_CORRUGATED_WEB: 104\n",
      "I_BSST_SPEC_IFBA: 54\n",
      "I_BSST_SPEC_IFBB: 55\n",
      "I_BSST_SPEC_SFB: 53\n",
      "I_BSST_TBETC: 98\n",
      "I_BSST_TCAR: 31\n",
      "I_BSST_TEAE: 32\n",
      "I_BSST_TEAI: 33\n",
      "I_BSST_THEX: 34\n",
      "I_BSST_TREC: 35\n",
      "I_BSST_TRND: 47\n",
      "I_BSST_TRON: 36\n",
      "I_BSST_TUBE: 93\n",
      "I_BSST_TUSER: 96\n",
      "I_BSST_UAP: 37\n",
      "I_BSST_UNKNOWN: 0\n",
      "I_BSST_UPAF: 42\n",
      "I_BSST_UPN: 38\n",
      "I_BSST_URND: 46\n",
      "I_BSST_USER_BOX: 91\n",
      "I_BSST_USER_BOX_2: 102\n",
      "I_BSST_USER_BOX_3: 105\n",
      "I_BSST_USER_CIRC_FILLED: 101\n",
      "I_BSST_USER_CROSS: 201\n",
      "I_BSST_USER_C_SHAPE: 97\n",
      "I_BSST_USER_I_BISYM: 94\n",
      "I_BSST_USER_I_MONOSYM: 95\n",
      "I_BSST_USER_POLYGONAL: 103\n",
      "I_BSST_USER_RECT: 92\n",
      "I_BSST_USER_TUBE: 93\n",
      "I_BSST_USER_T_SHAPE: 96\n",
      "I_BSST_UUAP: 39\n",
      "I_BSST_UUPN: 40\n",
      "I_BSST_WELD_CROSS: 201\n",
      "I_BSST_WOOD_CIRC: 100\n",
      "I_BSST_WOOD_DRECT: 99\n",
      "I_BSST_WOOD_RECT: 41\n"
     ]
    }
   ],
   "source": [
    "for attr in dir(ar.RobotOM.IRobotBarSectionShapeType):\n",
    "    if attr.startswith('I_BSST'):\n",
    "        print(f'{attr}: {getattr(ar.RobotOM.IRobotBarSectionShapeType, attr)}')"
   ]
  },
  {
   "cell_type": "code",
   "execution_count": 8,
   "metadata": {},
   "outputs": [],
   "source": [
    "rb.sections.load('UB 305x165x40')\n",
    "section = rb.sections.get('UB 305x165x40')"
   ]
  },
  {
   "cell_type": "code",
   "execution_count": 9,
   "metadata": {},
   "outputs": [
    {
     "data": {
      "text/plain": [
       "0"
      ]
     },
     "execution_count": 9,
     "metadata": {},
     "output_type": "execute_result"
    }
   ],
   "source": [
    "section.data.Type"
   ]
  },
  {
   "cell_type": "code",
   "execution_count": 10,
   "metadata": {},
   "outputs": [
    {
     "data": {
      "text/plain": [
       "<autorobot.nodes.ExtendedNode at 0x222dd639b88>"
      ]
     },
     "execution_count": 10,
     "metadata": {},
     "output_type": "execute_result"
    }
   ],
   "source": [
    "\n",
    "rb.nodes.create(0,0,0)\n",
    "rb.nodes.create(1,1,1)"
   ]
  },
  {
   "cell_type": "code",
   "execution_count": 11,
   "metadata": {},
   "outputs": [],
   "source": [
    "rb.supports.create('New Uy', '111000', node=1, orient_node=2)"
   ]
  },
  {
   "cell_type": "code",
   "execution_count": 12,
   "metadata": {},
   "outputs": [
    {
     "name": "stdout",
     "output_type": "stream",
     "text": [
      "0.7853981633974483 0.9553166181245092 0.0\n"
     ]
    }
   ],
   "source": [
    "uy = rb.supports.get('New Uy')\n",
    "print(uy.data.Alpha, uy.data.Beta, uy.data.Gamma)"
   ]
  }
 ],
 "metadata": {
  "kernelspec": {
   "display_name": "Python 3",
   "language": "python",
   "name": "python3"
  },
  "language_info": {
   "codemirror_mode": {
    "name": "ipython",
    "version": 3
   },
   "file_extension": ".py",
   "mimetype": "text/x-python",
   "name": "python",
   "nbconvert_exporter": "python",
   "pygments_lexer": "ipython3",
   "version": "3.7.7"
  }
 },
 "nbformat": 4,
 "nbformat_minor": 4
}
